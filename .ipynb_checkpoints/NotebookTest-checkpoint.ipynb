{
 "cells": [
  {
   "cell_type": "markdown",
   "metadata": {},
   "source": [
    "# Notebook de test "
   ]
  },
  {
   "cell_type": "markdown",
   "metadata": {},
   "source": [
    "#### Sommaire\n",
    "<ol>\n",
    "    <li ><a href=#Approche-non-supervisée> Approche non-supervisée</a></li>\n",
    "    <ol>\n",
    "        <li> <a href=#LatentDirichletAllocation>LatentDirichletAllocation</a></li>\n",
    "        <li> <a href=#NonNegativeMatrixFactorisation>NonNegativeMatrixFactorisation</a></li>\n",
    "    </ol>\n",
    "    <li> <a href=#Approche-mixte> Approche mixte</a></li>\n",
    "    <li> <a href=#Approche-supervisée> Approche supervisée</a></li>\n",
    "    <li> <a href=#Modèle-retenu>Modèle retenu</a></li>\n",
    "</ol>"
   ]
  },
  {
   "cell_type": "markdown",
   "metadata": {},
   "source": [
    "## Import des bibliothèques"
   ]
  },
  {
   "cell_type": "code",
   "execution_count": 1,
   "metadata": {},
   "outputs": [],
   "source": [
    "import numpy as np\n",
    "import pandas as pd\n",
    "import matplotlib.pyplot as plt\n",
    "import seaborn as sns\n",
    "import nltk\n",
    "from bs4 import BeautifulSoup\n",
    "import xml\n",
    "from sklearn.feature_extraction.text import TfidfVectorizer,TfidfTransformer,CountVectorizer\n",
    "from sklearn.manifold import TSNE\n",
    "from sklearn.decomposition import TruncatedSVD,LatentDirichletAllocation,NMF\n",
    "from sklearn.cluster import DBSCAN,AgglomerativeClustering,SpectralClustering, AffinityPropagation\n",
    "from sklearn.pipeline import Pipeline\n",
    "from sklearn.compose import ColumnTransformer\n",
    "from sklearn.preprocessing import LabelEncoder,StandardScaler\n",
    "from sklearn.model_selection import train_test_split,GridSearchCV,StratifiedKFold\n",
    "from sklearn.linear_model import LogisticRegression\n",
    "from sklearn.naive_bayes import BaseNB,BernoulliNB\n",
    "from sklearn.tree import DecisionTreeClassifier\n",
    "from xgboost import XGBClassifier\n",
    "from sklearn.ensemble import RandomForestClassifier\n",
    "from sklearn.utils import resample\n",
    "from joblib import Parallel, delayed\n"
   ]
  },
  {
   "cell_type": "code",
   "execution_count": 2,
   "metadata": {},
   "outputs": [],
   "source": [
    "query_df=pd.read_csv(\"exported_query_df.csv\",index_col='Id')\n",
    "corpus_by_tag_df=pd.read_csv(\"corpus_by_tag.csv\")"
   ]
  },
  {
   "cell_type": "code",
   "execution_count": 3,
   "metadata": {},
   "outputs": [],
   "source": [
    "corpus_by_tag_df.index=corpus_by_tag_df['Unnamed: 0']\n",
    "corpus_by_tag_df.drop('Unnamed: 0',axis=1,inplace=True)"
   ]
  },
  {
   "cell_type": "code",
   "execution_count": 4,
   "metadata": {},
   "outputs": [
    {
     "data": {
      "text/plain": [
       "Index(['CreationDate', 'AnswerCount', 'Body', 'CommentCount', 'FavoriteCount',\n",
       "       'Score', 'Title', 'ViewCount', 'Body_text', 'Tag_list0', 'Tag_list1',\n",
       "       'Tag_list2', 'Tag_list3', 'Tag_list4'],\n",
       "      dtype='object')"
      ]
     },
     "execution_count": 4,
     "metadata": {},
     "output_type": "execute_result"
    }
   ],
   "source": [
    "query_df.columns"
   ]
  },
  {
   "cell_type": "code",
   "execution_count": 5,
   "metadata": {},
   "outputs": [],
   "source": [
    "all_tag=[]\n",
    "for i in query_df.columns:\n",
    "    if 'Tag_l' in i :\n",
    "        all_tag.extend(query_df[i].unique())\n",
    "all_tag=set(all_tag)"
   ]
  },
  {
   "cell_type": "code",
   "execution_count": 6,
   "metadata": {},
   "outputs": [],
   "source": [
    "len(all_tag-set(corpus_by_tag_df.index))\n",
    "map_dict={i:np.nan for i in all_tag-set(corpus_by_tag_df.index)}"
   ]
  },
  {
   "cell_type": "code",
   "execution_count": 7,
   "metadata": {},
   "outputs": [],
   "source": [
    "for i in query_df.columns:\n",
    "    if 'Tag_l' in i :\n",
    "        query_df[i]=query_df[i].replace(map_dict)"
   ]
  },
  {
   "cell_type": "code",
   "execution_count": 8,
   "metadata": {},
   "outputs": [],
   "source": [
    "#for k in np.arange(3):\n",
    "#    print(k,'-iter')\n",
    "#    try:\n",
    "#        for i in query_df[[i for i in query_df.columns if 'Tag_l' in i]].columns:\n",
    "#            print(i)\n",
    "#            for j in query_df.index:\n",
    "#                if query_df.loc[j,i] is np.nan:\n",
    "#                    query_df.loc[j,i]=query_df.loc[j,i[:-1]+str(int(i[-1])+1)]\n",
    "#    except:\n",
    "#        pass\n"
   ]
  },
  {
   "cell_type": "code",
   "execution_count": 9,
   "metadata": {},
   "outputs": [
    {
     "data": {
      "text/plain": [
       "Tag_list0    65161\n",
       "Tag_list1    43785\n",
       "Tag_list2    19272\n",
       "Tag_list3     6155\n",
       "Tag_list4     1287\n",
       "dtype: int64"
      ]
     },
     "execution_count": 9,
     "metadata": {},
     "output_type": "execute_result"
    }
   ],
   "source": [
    "query_df[[i for i in query_df.columns if 'Tag_l' in i]].count()"
   ]
  },
  {
   "cell_type": "code",
   "execution_count": 10,
   "metadata": {},
   "outputs": [],
   "source": [
    "test_df=query_df[query_df.Tag_list0.notna()].copy()\n",
    "test_df['Tag']=test_df['Tag_list0']\n",
    "for i in query_df.columns:\n",
    "    if 'Tag_l' in i and i[-1]!='0':\n",
    "        x=query_df[query_df[i].notna()].copy()\n",
    "        x['Tag']=x[i]\n",
    "        test_df=pd.concat([test_df,x],axis=0)"
   ]
  },
  {
   "cell_type": "code",
   "execution_count": 11,
   "metadata": {},
   "outputs": [],
   "source": [
    "keys_to_keep=list(test_df.Tag.value_counts()[test_df.Tag.value_counts()>=400].keys())"
   ]
  },
  {
   "cell_type": "code",
   "execution_count": null,
   "metadata": {},
   "outputs": [],
   "source": []
  },
  {
   "cell_type": "code",
   "execution_count": 12,
   "metadata": {},
   "outputs": [],
   "source": [
    "test_df.index=np.arange(test_df.shape[0])"
   ]
  },
  {
   "cell_type": "code",
   "execution_count": 13,
   "metadata": {},
   "outputs": [],
   "source": [
    "idx=[i for i in test_df.index if test_df.loc[i,'Tag'] in keys_to_keep]"
   ]
  },
  {
   "cell_type": "code",
   "execution_count": 14,
   "metadata": {},
   "outputs": [],
   "source": [
    "test_df=test_df.loc[idx,:]"
   ]
  },
  {
   "cell_type": "code",
   "execution_count": null,
   "metadata": {},
   "outputs": [],
   "source": []
  },
  {
   "cell_type": "markdown",
   "metadata": {},
   "source": [
    "## Approche non-supervisée"
   ]
  },
  {
   "cell_type": "code",
   "execution_count": 15,
   "metadata": {},
   "outputs": [
    {
     "data": {
      "text/plain": [
       "(65666, 14)"
      ]
     },
     "execution_count": 15,
     "metadata": {},
     "output_type": "execute_result"
    }
   ],
   "source": [
    "query_df.shape"
   ]
  },
  {
   "cell_type": "markdown",
   "metadata": {},
   "source": [
    "### LatentDirichletAllocation"
   ]
  },
  {
   "cell_type": "code",
   "execution_count": 16,
   "metadata": {},
   "outputs": [],
   "source": [
    "lda=LatentDirichletAllocation(n_components=30)"
   ]
  },
  {
   "cell_type": "code",
   "execution_count": 17,
   "metadata": {},
   "outputs": [],
   "source": [
    "tfidf=TfidfVectorizer(ngram_range=(1,3),stop_words='english',max_df=0.9,min_df=0.0025,sublinear_tf=True)\n",
    "tfidf_titre=TfidfVectorizer(ngram_range=(1,3),max_df=0.95,min_df=0.001,stop_words='english',sublinear_tf=True)"
   ]
  },
  {
   "cell_type": "code",
   "execution_count": 18,
   "metadata": {},
   "outputs": [],
   "source": [
    "tf_df=tfidf.fit_transform(query_df.Body_text.apply(str))"
   ]
  },
  {
   "cell_type": "code",
   "execution_count": 19,
   "metadata": {},
   "outputs": [],
   "source": [
    "lda_df=lda.fit_transform(tf_df)"
   ]
  },
  {
   "cell_type": "code",
   "execution_count": 20,
   "metadata": {
    "scrolled": false
   },
   "outputs": [
    {
     "name": "stdout",
     "output_type": "stream",
     "text": [
      "Topic 0:\n",
      "app ios android google device user api application play using iphone facebook use maps video\n",
      "Topic 1:\n",
      "div class div class html css div div li href width td src img id bootstrap body\n",
      "Topic 2:\n",
      "windows command install file installed files path error directory version run program folder python exe\n",
      "Topic 3:\n",
      "table database sql query select mysql db id column sql server insert tables data server create\n",
      "Topic 4:\n",
      "page chrome window browser button way using want click like javascript tab open firefox know\n",
      "Topic 5:\n",
      "git project xcode error build branch file repository commit app github android run files eclipse\n",
      "Topic 6:\n",
      "dataframe list df column columns data values pandas like value want string data frame row frame\n",
      "Topic 7:\n",
      "android layout_width layout_height android layout_width android layout_height xml android id id id android id id wrap_content id xmlns match_parent wrap_content android schemas\n",
      "Topic 8:\n",
      "int function std class foo use return code object does like type variable value difference\n",
      "Topic 9:\n",
      "override public activity override public void public void fragment view override public void android oncreate new savedinstancestate findviewbyid super\n",
      "Topic 10:\n",
      "spring exception catch boot spring boot public test file try new bean class springframework unit java\n",
      "Topic 11:\n",
      "py import python module file py line line packages lib traceback csv site packages __init__ traceback recent self\n",
      "Topic 12:\n",
      "java lang java lang org apache org apache util sun com exception internal main reflect java util run\n",
      "Topic 13:\n",
      "string number like characters want character file text line print output numbers regex example str\n",
      "Topic 14:\n",
      "public static class void string public static static void private public class println public static void void main new args static void main\n",
      "Topic 15:\n",
      "js angular node npm module node_modules app ts error import component typescript node js github json\n",
      "Topic 16:\n",
      "date 00 01 datetime 12 time 2012 month 10 day 11 15 2013 00 00 year\n",
      "Topic 17:\n",
      "self swift nil func view let controller nsstring view controller objective var alloc viewdidload code storyboard\n",
      "Topic 18:\n",
      "mm date dd yyyy format mm dd intellij datepicker hh yyyy mm hh mm ss yyyy mm dd intellij idea locale\n",
      "Topic 19:\n",
      "function json data request console log console log response var return post url object error user\n",
      "Topic 20:\n",
      "android gradle android studio build studio com project com android build gradle support jar dependencies compile plugin android support\n",
      "Topic 21:\n",
      "color height image width size text view background cell want change font like set tableview\n",
      "Topic 22:\n",
      "use like way using know question just ve don need want code really good does\n",
      "Topic 23:\n",
      "docker usr run command bin error install file running local php server ruby bash ubuntu\n",
      "Topic 24:\n",
      "http com server url request www localhost password error user using client php https ip\n",
      "Topic 25:\n",
      "react net asp component asp net web mvc props render app route net core microsoft core error\n",
      "Topic 26:\n",
      "intent notification activity android uri new intent drawable intent intent icon app notifications toast context image new\n",
      "Topic 27:\n",
      "public string public string set public class new set public class return int await entity writeline list dart\n",
      "Topic 28:\n",
      "input form function value div input type button type click id text ng event html var\n",
      "Topic 29:\n",
      "array way list loop like return elements function value want element true arrays arr range\n"
     ]
    }
   ],
   "source": [
    "def display_topics(model, feature_names, no_top_words):\n",
    "    for topic_idx, topic in enumerate(model.components_):\n",
    "        print(\"Topic {}:\".format(topic_idx))\n",
    "        print(\" \".join([feature_names[i] for i in topic.argsort()[:-no_top_words - 1:-1]]))\n",
    "\n",
    "no_top_words = 15\n",
    "display_topics(lda, tfidf.get_feature_names(), no_top_words)\n"
   ]
  },
  {
   "cell_type": "code",
   "execution_count": 21,
   "metadata": {},
   "outputs": [],
   "source": [
    "tf_df=tfidf.fit_transform(corpus_by_tag_df['0'])"
   ]
  },
  {
   "cell_type": "code",
   "execution_count": 47,
   "metadata": {},
   "outputs": [],
   "source": [
    "lda_df=lda.fit_transform(tf_df)"
   ]
  },
  {
   "cell_type": "code",
   "execution_count": 48,
   "metadata": {
    "scrolled": true
   },
   "outputs": [
    {
     "name": "stdout",
     "output_type": "stream",
     "text": [
      "Topic 0:\n",
      "component react import const int export props std return include render angular int main main class\n",
      "Topic 1:\n",
      "use code int like question does way function just know class using understand example time\n",
      "Topic 2:\n",
      "xcode app docker ios error run running build file server device using version project application\n",
      "Topic 3:\n",
      "file files command script directory txt line bash path echo want shell folder like filename\n",
      "Topic 4:\n",
      "android layout_width layout_height android layout_width android layout_height android id android id id id id wrap_content id xml match_parent wrap_content android main string static void main\n",
      "Topic 5:\n",
      "df dataframe column data columns number pandas 10 like list values array want numbers row\n",
      "Topic 6:\n",
      "python py packages import module file pip install py line line error lib windows installed site packages\n",
      "Topic 7:\n",
      "npm 00 js node 12 node_modules 01 10 11 error 13 15 16 date 00 00\n",
      "Topic 8:\n",
      "numpy np plot import csv array matplotlib python axis data matrix notebook import numpy points chart\n",
      "Topic 9:\n",
      "div div class class div div li td span ul tr li li href div div class id css html\n",
      "Topic 10:\n",
      "view color cell self text tableview change bar height size frame uitableview uiview uicolor image\n",
      "Topic 11:\n",
      "table sql database query select mysql db column sql server insert server id data tables error\n",
      "Topic 12:\n",
      "studio project visual visual studio eclipse android android studio error file windows intellij build run debug using\n",
      "Topic 13:\n",
      "self swift nil controller view func nsstring app let ios view controller objective scope code alloc\n",
      "Topic 14:\n",
      "git branch commit repository github master remote push repo changes pull files file clone origin\n",
      "Topic 15:\n",
      "script document jquery function html javascript div js var body text id getelementbyid head type text\n",
      "Topic 16:\n",
      "function request json response console log console data log var url post http return error ajax\n",
      "Topic 17:\n",
      "public spring class web net asp asp net mvc public class org string application new java configuration\n",
      "Topic 18:\n",
      "string array list like value object way return var want foo key new function example\n",
      "Topic 19:\n",
      "public void public void override override public new activity class private override public void int fragment view string public class\n",
      "Topic 20:\n",
      "button click event modal want user bootstrap keyboard dialog tab window close open buttons element\n",
      "Topic 21:\n",
      "com https www http google user password github ip github com api facebook url firebase https github\n",
      "Topic 22:\n",
      "android app google intent native activity react native maps application permission sdk api play com manifest\n",
      "Topic 23:\n",
      "gradle android build com android build gradle com compile jar dependencies android support support java com android support project compile com\n",
      "Topic 24:\n",
      "usr install error bin usr local local installed version command lib java ruby run sudo ubuntu\n",
      "Topic 25:\n",
      "date font month day year format mm yyyy calendar dd datetime dates datepicker new date days\n",
      "Topic 26:\n",
      "image width height css images div background chrome img page like scroll want size using\n",
      "Topic 27:\n",
      "input form value id input type field type model select array user ng submit text option\n",
      "Topic 28:\n",
      "js page app route url html node http express server php index localhost node js router\n",
      "Topic 29:\n",
      "know thanks advance thanks advance use help random language like way want possible want know generate locale\n"
     ]
    }
   ],
   "source": [
    "def display_topics(model, feature_names, no_top_words):\n",
    "    for topic_idx, topic in enumerate(model.components_):\n",
    "        print(\"Topic {}:\".format(topic_idx))\n",
    "        print(\" \".join([feature_names[i] for i in topic.argsort()[:-no_top_words - 1:-1]]))\n",
    "\n",
    "no_top_words = 15\n",
    "display_topics(lda, tfidf.get_feature_names(), no_top_words)\n"
   ]
  },
  {
   "cell_type": "code",
   "execution_count": 49,
   "metadata": {
    "scrolled": true
   },
   "outputs": [
    {
     "data": {
      "text/html": [
       "<div>\n",
       "<style scoped>\n",
       "    .dataframe tbody tr th:only-of-type {\n",
       "        vertical-align: middle;\n",
       "    }\n",
       "\n",
       "    .dataframe tbody tr th {\n",
       "        vertical-align: top;\n",
       "    }\n",
       "\n",
       "    .dataframe thead th {\n",
       "        text-align: right;\n",
       "    }\n",
       "</style>\n",
       "<table border=\"1\" class=\"dataframe\">\n",
       "  <thead>\n",
       "    <tr style=\"text-align: right;\">\n",
       "      <th></th>\n",
       "      <th>0</th>\n",
       "    </tr>\n",
       "    <tr>\n",
       "      <th>Unnamed: 0</th>\n",
       "      <th></th>\n",
       "    </tr>\n",
       "  </thead>\n",
       "  <tbody>\n",
       "    <tr>\n",
       "      <th>javascript</th>\n",
       "      <td>['how', 'can', 'i', 'get', 'react', 'to', 're...</td>\n",
       "    </tr>\n",
       "    <tr>\n",
       "      <th>android</th>\n",
       "      <td>['i', 'have', 'a', 'multi', 'project', '10', ...</td>\n",
       "    </tr>\n",
       "    <tr>\n",
       "      <th>java</th>\n",
       "      <td>['i', 'have', 'intellij', 'ultimate', '11', '...</td>\n",
       "    </tr>\n",
       "    <tr>\n",
       "      <th>python</th>\n",
       "      <td>['if', 'ones', 'catches', 'an', 'exception', ...</td>\n",
       "    </tr>\n",
       "    <tr>\n",
       "      <th>ios</th>\n",
       "      <td>['i', 've', 'been', 'trying', 'to', 'find', '...</td>\n",
       "    </tr>\n",
       "    <tr>\n",
       "      <th>...</th>\n",
       "      <td>...</td>\n",
       "    </tr>\n",
       "    <tr>\n",
       "      <th>vector</th>\n",
       "      <td>['over', 'the', 'past', 'few', 'days', 'i', '...</td>\n",
       "    </tr>\n",
       "    <tr>\n",
       "      <th>ionic2</th>\n",
       "      <td>['i', 'm', 'trying', 'to', 'implement', 'a', ...</td>\n",
       "    </tr>\n",
       "    <tr>\n",
       "      <th>templates</th>\n",
       "      <td>['how', 'can', 'i', 'output', 'the', 'value',...</td>\n",
       "    </tr>\n",
       "    <tr>\n",
       "      <th>events</th>\n",
       "      <td>['how', 'can', 'i', 'catch', 'the', 'event', ...</td>\n",
       "    </tr>\n",
       "    <tr>\n",
       "      <th>scikit-learn</th>\n",
       "      <td>['i', 'want', 'to', 'plot', 'a', 'confusion',...</td>\n",
       "    </tr>\n",
       "  </tbody>\n",
       "</table>\n",
       "<p>292 rows × 1 columns</p>\n",
       "</div>"
      ],
      "text/plain": [
       "                                                              0\n",
       "Unnamed: 0                                                     \n",
       "javascript     ['how', 'can', 'i', 'get', 'react', 'to', 're...\n",
       "android        ['i', 'have', 'a', 'multi', 'project', '10', ...\n",
       "java           ['i', 'have', 'intellij', 'ultimate', '11', '...\n",
       "python         ['if', 'ones', 'catches', 'an', 'exception', ...\n",
       "ios            ['i', 've', 'been', 'trying', 'to', 'find', '...\n",
       "...                                                         ...\n",
       "vector         ['over', 'the', 'past', 'few', 'days', 'i', '...\n",
       "ionic2         ['i', 'm', 'trying', 'to', 'implement', 'a', ...\n",
       "templates      ['how', 'can', 'i', 'output', 'the', 'value',...\n",
       "events         ['how', 'can', 'i', 'catch', 'the', 'event', ...\n",
       "scikit-learn   ['i', 'want', 'to', 'plot', 'a', 'confusion',...\n",
       "\n",
       "[292 rows x 1 columns]"
      ]
     },
     "execution_count": 49,
     "metadata": {},
     "output_type": "execute_result"
    }
   ],
   "source": [
    "corpus_by_tag_df"
   ]
  },
  {
   "cell_type": "markdown",
   "metadata": {},
   "source": [
    "### NonNegativeMatrixFactorisation"
   ]
  },
  {
   "cell_type": "code",
   "execution_count": 50,
   "metadata": {},
   "outputs": [],
   "source": [
    "nmf =NMF(n_components=30,random_state=2)"
   ]
  },
  {
   "cell_type": "code",
   "execution_count": 51,
   "metadata": {},
   "outputs": [],
   "source": [
    "tf_df=tfidf.fit_transform(query_df.Body_text.apply(str))"
   ]
  },
  {
   "cell_type": "code",
   "execution_count": null,
   "metadata": {},
   "outputs": [],
   "source": []
  },
  {
   "cell_type": "code",
   "execution_count": 52,
   "metadata": {},
   "outputs": [],
   "source": [
    "nmf_df=nmf.fit_transform(tf_df)"
   ]
  },
  {
   "cell_type": "code",
   "execution_count": 53,
   "metadata": {},
   "outputs": [
    {
     "name": "stdout",
     "output_type": "stream",
     "text": [
      "Topic 0:\n",
      "way like use know need using just does question ve work example possible make time\n",
      "Topic 1:\n",
      "android gradle app android studio build com google com android studio support project sdk android support build gradle compile\n",
      "Topic 2:\n",
      "android layout_width android layout_width layout_height android layout_height id android id android id id id id wrap_content match_parent wrap_content android match_parent android android com layout_height wrap_content\n",
      "Topic 3:\n",
      "public class void new public class public void private static override method public static override public return static void null\n",
      "Topic 4:\n",
      "div class div class div div li div div class id span div id div div div href ul bootstrap li li col\n",
      "Topic 5:\n",
      "function var console log console log return code false true object document scope data function return javascript\n",
      "Topic 6:\n",
      "python py import line module py line packages lib site packages print pip site traceback python2 traceback recent\n",
      "Topic 7:\n",
      "table select query sql database id mysql column db insert tables sql server user null rows\n",
      "Topic 8:\n",
      "self view nil ios controller swift func tableview cell let view controller app viewdidload alloc xcode\n",
      "Topic 9:\n",
      "http request url response json com api post server user web application www data client\n",
      "Topic 10:\n",
      "input type form input type text type text input type text submit field label id model placeholder type submit checkbox\n",
      "Topic 11:\n",
      "color width height background text style css border size font left background color change 100 margin\n",
      "Topic 12:\n",
      "error run command install installed running version following tried bin xcode failed try getting following error\n",
      "Topic 13:\n",
      "string string string convert str strings character characters split json replace length like example hello format\n",
      "Topic 14:\n",
      "file files directory path folder txt open line read filename csv write project file file upload\n",
      "Topic 15:\n",
      "js node npm node js node_modules module angular npm install require err install package json express cli\n",
      "Topic 16:\n",
      "git branch github repository commit master push remote github com changes repo pull origin https com\n",
      "Topic 17:\n",
      "studio visual visual studio project net microsoft studio code visual studio code asp asp net windows code web vs 2012\n",
      "Topic 18:\n",
      "button click user event page onclick buttons btn modal window click button clicked close open dialog\n",
      "Topic 19:\n",
      "data df dataframe column columns pandas data frame frame row pd rows csv values 10 pd dataframe\n",
      "Topic 20:\n",
      "int std return include char int main main int int cout printf code number vector integer const\n",
      "Topic 21:\n",
      "array arrays element elements arr array array numpy objects object length index php np array like values\n",
      "Topic 22:\n",
      "script html javascript jquery js src page body head js script document css script src script script title\n",
      "Topic 23:\n",
      "date 00 format time mm datetime 01 2012 yyyy dd 12 day 00 00 month 10\n",
      "Topic 24:\n",
      "list item add items arraylist new lists list list new list list string elements element li new arraylist remove\n",
      "Topic 25:\n",
      "image images png img jpg docker src url background image img src uiimage size background imageview container\n",
      "Topic 26:\n",
      "value key option values set select option value key value option option variable object selected dictionary value value keys\n",
      "Topic 27:\n",
      "want don don want know want use want know use don know possible just want want create want make want add example change\n",
      "Topic 28:\n",
      "react component import app props export render const state router angular react native components native react component\n",
      "Topic 29:\n",
      "java org lang java lang main maven eclipse apache exception util org apache spring jar java util run\n"
     ]
    }
   ],
   "source": [
    "display_topics(nmf, tfidf.get_feature_names(), no_top_words)\n"
   ]
  },
  {
   "cell_type": "markdown",
   "metadata": {},
   "source": [
    "## Approche mixte"
   ]
  },
  {
   "cell_type": "code",
   "execution_count": null,
   "metadata": {},
   "outputs": [],
   "source": []
  },
  {
   "cell_type": "markdown",
   "metadata": {},
   "source": [
    "## Approche supervisée"
   ]
  },
  {
   "cell_type": "markdown",
   "metadata": {},
   "source": [
    "On va maintenant s'intéresser à des méthode supervisée pour classifier les textes. On va utiliser un nombre restreints de colonnes ainsi qu'une grille de recherche et des fonctions de préprocessing."
   ]
  },
  {
   "cell_type": "markdown",
   "metadata": {},
   "source": [
    "### Séparation des données et préparation des modèles."
   ]
  },
  {
   "cell_type": "code",
   "execution_count": 54,
   "metadata": {},
   "outputs": [
    {
     "data": {
      "text/plain": [
       "Index(['CreationDate', 'AnswerCount', 'Body', 'CommentCount', 'FavoriteCount',\n",
       "       'Score', 'Title', 'ViewCount', 'Body_text', 'Tag_list0', 'Tag_list1',\n",
       "       'Tag_list2', 'Tag_list3', 'Tag_list4', 'year'],\n",
       "      dtype='object')"
      ]
     },
     "execution_count": 54,
     "metadata": {},
     "output_type": "execute_result"
    }
   ],
   "source": [
    "query_df.columns"
   ]
  },
  {
   "cell_type": "code",
   "execution_count": 55,
   "metadata": {},
   "outputs": [],
   "source": [
    "query_df['year']=pd.to_datetime(query_df.CreationDate).dt.year"
   ]
  },
  {
   "cell_type": "code",
   "execution_count": 56,
   "metadata": {},
   "outputs": [],
   "source": [
    "test_df['year']=pd.to_datetime(test_df.CreationDate).dt.year"
   ]
  },
  {
   "cell_type": "code",
   "execution_count": 57,
   "metadata": {},
   "outputs": [],
   "source": [
    "non_word_column=['AnswerCount','CommentCount', 'FavoriteCount',\n",
    "       'Score','ViewCount','year']\n",
    "words_columns=['Title','Body_text']\n",
    "target_columns=['Tag_list0', 'Tag_list1',\n",
    "       'Tag_list2', 'Tag_list3', 'Tag_list4']"
   ]
  },
  {
   "cell_type": "code",
   "execution_count": 58,
   "metadata": {},
   "outputs": [],
   "source": [
    "rsmpl_df=resample(test_df,n_samples=45000)"
   ]
  },
  {
   "cell_type": "code",
   "execution_count": 59,
   "metadata": {},
   "outputs": [
    {
     "data": {
      "text/html": [
       "<div>\n",
       "<style scoped>\n",
       "    .dataframe tbody tr th:only-of-type {\n",
       "        vertical-align: middle;\n",
       "    }\n",
       "\n",
       "    .dataframe tbody tr th {\n",
       "        vertical-align: top;\n",
       "    }\n",
       "\n",
       "    .dataframe thead th {\n",
       "        text-align: right;\n",
       "    }\n",
       "</style>\n",
       "<table border=\"1\" class=\"dataframe\">\n",
       "  <thead>\n",
       "    <tr style=\"text-align: right;\">\n",
       "      <th></th>\n",
       "      <th>CreationDate</th>\n",
       "      <th>AnswerCount</th>\n",
       "      <th>Body</th>\n",
       "      <th>CommentCount</th>\n",
       "      <th>FavoriteCount</th>\n",
       "      <th>Score</th>\n",
       "      <th>Title</th>\n",
       "      <th>ViewCount</th>\n",
       "      <th>Body_text</th>\n",
       "      <th>Tag_list0</th>\n",
       "      <th>Tag_list1</th>\n",
       "      <th>Tag_list2</th>\n",
       "      <th>Tag_list3</th>\n",
       "      <th>Tag_list4</th>\n",
       "      <th>Tag</th>\n",
       "      <th>year</th>\n",
       "    </tr>\n",
       "  </thead>\n",
       "  <tbody>\n",
       "    <tr>\n",
       "      <th>119208</th>\n",
       "      <td>2015-03-13 08:33:20</td>\n",
       "      <td>7</td>\n",
       "      <td>&lt;p&gt;I created a &lt;code&gt;carousel&lt;/code&gt; with &lt;cod...</td>\n",
       "      <td>1</td>\n",
       "      <td>15</td>\n",
       "      <td>68</td>\n",
       "      <td>Getting Cannot read property 'offsetWidth' of ...</td>\n",
       "      <td>107737</td>\n",
       "      <td>I created a carousel with Bootstrap 3.3 and it...</td>\n",
       "      <td>javascript</td>\n",
       "      <td>jquery</td>\n",
       "      <td>twitter-bootstrap</td>\n",
       "      <td>NaN</td>\n",
       "      <td>NaN</td>\n",
       "      <td>twitter-bootstrap</td>\n",
       "      <td>2015</td>\n",
       "    </tr>\n",
       "    <tr>\n",
       "      <th>81934</th>\n",
       "      <td>2013-05-18 01:08:15</td>\n",
       "      <td>14</td>\n",
       "      <td>&lt;p&gt;When I boot up Android Studio and select &amp;q...</td>\n",
       "      <td>1</td>\n",
       "      <td>16</td>\n",
       "      <td>98</td>\n",
       "      <td>Failed to import new Gradle project: failed to...</td>\n",
       "      <td>136844</td>\n",
       "      <td>When I boot up Android Studio and select \"New ...</td>\n",
       "      <td>java</td>\n",
       "      <td>android</td>\n",
       "      <td>gradle</td>\n",
       "      <td>android-studio</td>\n",
       "      <td>NaN</td>\n",
       "      <td>android</td>\n",
       "      <td>2013</td>\n",
       "    </tr>\n",
       "    <tr>\n",
       "      <th>40360</th>\n",
       "      <td>2014-08-04 21:17:26</td>\n",
       "      <td>8</td>\n",
       "      <td>&lt;p&gt;I get so confused about 2D arrays in Swift....</td>\n",
       "      <td>3</td>\n",
       "      <td>37</td>\n",
       "      <td>116</td>\n",
       "      <td>Two-dimensional array in Swift</td>\n",
       "      <td>193770</td>\n",
       "      <td>I get so confused about 2D arrays in Swift. Le...</td>\n",
       "      <td>arrays</td>\n",
       "      <td>swift</td>\n",
       "      <td>NaN</td>\n",
       "      <td>NaN</td>\n",
       "      <td>NaN</td>\n",
       "      <td>arrays</td>\n",
       "      <td>2014</td>\n",
       "    </tr>\n",
       "    <tr>\n",
       "      <th>91180</th>\n",
       "      <td>2015-04-01 10:42:37</td>\n",
       "      <td>6</td>\n",
       "      <td>&lt;p&gt;I installed last version of Node.js (12.2 x...</td>\n",
       "      <td>1</td>\n",
       "      <td>3</td>\n",
       "      <td>15</td>\n",
       "      <td>npm hangs on any command</td>\n",
       "      <td>14669</td>\n",
       "      <td>I installed last version of Node.js (12.2 x64 ...</td>\n",
       "      <td>windows</td>\n",
       "      <td>node.js</td>\n",
       "      <td>npm</td>\n",
       "      <td>NaN</td>\n",
       "      <td>NaN</td>\n",
       "      <td>node.js</td>\n",
       "      <td>2015</td>\n",
       "    </tr>\n",
       "    <tr>\n",
       "      <th>59750</th>\n",
       "      <td>2017-05-12 23:03:05</td>\n",
       "      <td>5</td>\n",
       "      <td>&lt;p&gt;I am new to Flutter and I was trying do exe...</td>\n",
       "      <td>0</td>\n",
       "      <td>11</td>\n",
       "      <td>69</td>\n",
       "      <td>No Material widget found</td>\n",
       "      <td>50791</td>\n",
       "      <td>I am new to Flutter and I was trying do execut...</td>\n",
       "      <td>flutter</td>\n",
       "      <td>NaN</td>\n",
       "      <td>NaN</td>\n",
       "      <td>NaN</td>\n",
       "      <td>NaN</td>\n",
       "      <td>flutter</td>\n",
       "      <td>2017</td>\n",
       "    </tr>\n",
       "    <tr>\n",
       "      <th>...</th>\n",
       "      <td>...</td>\n",
       "      <td>...</td>\n",
       "      <td>...</td>\n",
       "      <td>...</td>\n",
       "      <td>...</td>\n",
       "      <td>...</td>\n",
       "      <td>...</td>\n",
       "      <td>...</td>\n",
       "      <td>...</td>\n",
       "      <td>...</td>\n",
       "      <td>...</td>\n",
       "      <td>...</td>\n",
       "      <td>...</td>\n",
       "      <td>...</td>\n",
       "      <td>...</td>\n",
       "      <td>...</td>\n",
       "    </tr>\n",
       "    <tr>\n",
       "      <th>49589</th>\n",
       "      <td>2014-11-19 10:14:59</td>\n",
       "      <td>7</td>\n",
       "      <td>&lt;p&gt;I have used openCV python and encountered a...</td>\n",
       "      <td>2</td>\n",
       "      <td>5</td>\n",
       "      <td>38</td>\n",
       "      <td>Failure to use adaptiveThreshold: CV_8UC1 in f...</td>\n",
       "      <td>77101</td>\n",
       "      <td>I have used openCV python and encountered an e...</td>\n",
       "      <td>python</td>\n",
       "      <td>opencv</td>\n",
       "      <td>NaN</td>\n",
       "      <td>NaN</td>\n",
       "      <td>NaN</td>\n",
       "      <td>python</td>\n",
       "      <td>2014</td>\n",
       "    </tr>\n",
       "    <tr>\n",
       "      <th>79511</th>\n",
       "      <td>2013-08-12 14:11:33</td>\n",
       "      <td>9</td>\n",
       "      <td>&lt;p&gt;I'm building a new website, and I'm looking...</td>\n",
       "      <td>1</td>\n",
       "      <td>11</td>\n",
       "      <td>61</td>\n",
       "      <td>Is there a color code for transparent in HTML?</td>\n",
       "      <td>712605</td>\n",
       "      <td>I'm building a new website, and I'm looking fo...</td>\n",
       "      <td>html</td>\n",
       "      <td>css</td>\n",
       "      <td>NaN</td>\n",
       "      <td>NaN</td>\n",
       "      <td>NaN</td>\n",
       "      <td>css</td>\n",
       "      <td>2013</td>\n",
       "    </tr>\n",
       "    <tr>\n",
       "      <th>53935</th>\n",
       "      <td>2015-04-27 02:28:36</td>\n",
       "      <td>7</td>\n",
       "      <td>&lt;p&gt;I'm getting this error on just one server r...</td>\n",
       "      <td>4</td>\n",
       "      <td>2</td>\n",
       "      <td>17</td>\n",
       "      <td>C# System.Net.WebException: The underlying con...</td>\n",
       "      <td>95615</td>\n",
       "      <td>I'm getting this error on just one server runn...</td>\n",
       "      <td>c#</td>\n",
       "      <td>NaN</td>\n",
       "      <td>NaN</td>\n",
       "      <td>NaN</td>\n",
       "      <td>NaN</td>\n",
       "      <td>c#</td>\n",
       "      <td>2015</td>\n",
       "    </tr>\n",
       "    <tr>\n",
       "      <th>63904</th>\n",
       "      <td>2019-06-15 01:59:30</td>\n",
       "      <td>7</td>\n",
       "      <td>&lt;p&gt;While executing &lt;strong&gt;ng build --prod --b...</td>\n",
       "      <td>3</td>\n",
       "      <td>7</td>\n",
       "      <td>32</td>\n",
       "      <td>Angular 8 ng-build throwing MIME error with co...</td>\n",
       "      <td>13051</td>\n",
       "      <td>While executing ng build --prod --base-href ./...</td>\n",
       "      <td>angular</td>\n",
       "      <td>angular-cli</td>\n",
       "      <td>NaN</td>\n",
       "      <td>NaN</td>\n",
       "      <td>NaN</td>\n",
       "      <td>angular</td>\n",
       "      <td>2019</td>\n",
       "    </tr>\n",
       "    <tr>\n",
       "      <th>78429</th>\n",
       "      <td>2013-01-15 19:56:09</td>\n",
       "      <td>5</td>\n",
       "      <td>&lt;pre&gt;&lt;code&gt;$.getJSON(url, function(json) {\\n  ...</td>\n",
       "      <td>8</td>\n",
       "      <td>8</td>\n",
       "      <td>36</td>\n",
       "      <td>How to check if JSON return is empty with jquery</td>\n",
       "      <td>145183</td>\n",
       "      <td>$.getJSON(url, function(json) {\\n  var output ...</td>\n",
       "      <td>javascript</td>\n",
       "      <td>jquery</td>\n",
       "      <td>ajax</td>\n",
       "      <td>json</td>\n",
       "      <td>NaN</td>\n",
       "      <td>jquery</td>\n",
       "      <td>2013</td>\n",
       "    </tr>\n",
       "  </tbody>\n",
       "</table>\n",
       "<p>45000 rows × 16 columns</p>\n",
       "</div>"
      ],
      "text/plain": [
       "               CreationDate  AnswerCount  \\\n",
       "119208  2015-03-13 08:33:20            7   \n",
       "81934   2013-05-18 01:08:15           14   \n",
       "40360   2014-08-04 21:17:26            8   \n",
       "91180   2015-04-01 10:42:37            6   \n",
       "59750   2017-05-12 23:03:05            5   \n",
       "...                     ...          ...   \n",
       "49589   2014-11-19 10:14:59            7   \n",
       "79511   2013-08-12 14:11:33            9   \n",
       "53935   2015-04-27 02:28:36            7   \n",
       "63904   2019-06-15 01:59:30            7   \n",
       "78429   2013-01-15 19:56:09            5   \n",
       "\n",
       "                                                     Body  CommentCount  \\\n",
       "119208  <p>I created a <code>carousel</code> with <cod...             1   \n",
       "81934   <p>When I boot up Android Studio and select &q...             1   \n",
       "40360   <p>I get so confused about 2D arrays in Swift....             3   \n",
       "91180   <p>I installed last version of Node.js (12.2 x...             1   \n",
       "59750   <p>I am new to Flutter and I was trying do exe...             0   \n",
       "...                                                   ...           ...   \n",
       "49589   <p>I have used openCV python and encountered a...             2   \n",
       "79511   <p>I'm building a new website, and I'm looking...             1   \n",
       "53935   <p>I'm getting this error on just one server r...             4   \n",
       "63904   <p>While executing <strong>ng build --prod --b...             3   \n",
       "78429   <pre><code>$.getJSON(url, function(json) {\\n  ...             8   \n",
       "\n",
       "        FavoriteCount  Score  \\\n",
       "119208             15     68   \n",
       "81934              16     98   \n",
       "40360              37    116   \n",
       "91180               3     15   \n",
       "59750              11     69   \n",
       "...               ...    ...   \n",
       "49589               5     38   \n",
       "79511              11     61   \n",
       "53935               2     17   \n",
       "63904               7     32   \n",
       "78429               8     36   \n",
       "\n",
       "                                                    Title  ViewCount  \\\n",
       "119208  Getting Cannot read property 'offsetWidth' of ...     107737   \n",
       "81934   Failed to import new Gradle project: failed to...     136844   \n",
       "40360                      Two-dimensional array in Swift     193770   \n",
       "91180                            npm hangs on any command      14669   \n",
       "59750                            No Material widget found      50791   \n",
       "...                                                   ...        ...   \n",
       "49589   Failure to use adaptiveThreshold: CV_8UC1 in f...      77101   \n",
       "79511      Is there a color code for transparent in HTML?     712605   \n",
       "53935   C# System.Net.WebException: The underlying con...      95615   \n",
       "63904   Angular 8 ng-build throwing MIME error with co...      13051   \n",
       "78429    How to check if JSON return is empty with jquery     145183   \n",
       "\n",
       "                                                Body_text   Tag_list0  \\\n",
       "119208  I created a carousel with Bootstrap 3.3 and it...  javascript   \n",
       "81934   When I boot up Android Studio and select \"New ...        java   \n",
       "40360   I get so confused about 2D arrays in Swift. Le...      arrays   \n",
       "91180   I installed last version of Node.js (12.2 x64 ...     windows   \n",
       "59750   I am new to Flutter and I was trying do execut...     flutter   \n",
       "...                                                   ...         ...   \n",
       "49589   I have used openCV python and encountered an e...      python   \n",
       "79511   I'm building a new website, and I'm looking fo...        html   \n",
       "53935   I'm getting this error on just one server runn...          c#   \n",
       "63904   While executing ng build --prod --base-href ./...     angular   \n",
       "78429   $.getJSON(url, function(json) {\\n  var output ...  javascript   \n",
       "\n",
       "          Tag_list1          Tag_list2       Tag_list3 Tag_list4  \\\n",
       "119208       jquery  twitter-bootstrap             NaN       NaN   \n",
       "81934       android             gradle  android-studio       NaN   \n",
       "40360         swift                NaN             NaN       NaN   \n",
       "91180       node.js                npm             NaN       NaN   \n",
       "59750           NaN                NaN             NaN       NaN   \n",
       "...             ...                ...             ...       ...   \n",
       "49589        opencv                NaN             NaN       NaN   \n",
       "79511           css                NaN             NaN       NaN   \n",
       "53935           NaN                NaN             NaN       NaN   \n",
       "63904   angular-cli                NaN             NaN       NaN   \n",
       "78429        jquery               ajax            json       NaN   \n",
       "\n",
       "                      Tag  year  \n",
       "119208  twitter-bootstrap  2015  \n",
       "81934             android  2013  \n",
       "40360              arrays  2014  \n",
       "91180             node.js  2015  \n",
       "59750             flutter  2017  \n",
       "...                   ...   ...  \n",
       "49589              python  2014  \n",
       "79511                 css  2013  \n",
       "53935                  c#  2015  \n",
       "63904             angular  2019  \n",
       "78429              jquery  2013  \n",
       "\n",
       "[45000 rows x 16 columns]"
      ]
     },
     "execution_count": 59,
     "metadata": {},
     "output_type": "execute_result"
    }
   ],
   "source": [
    "rsmpl_df"
   ]
  },
  {
   "cell_type": "code",
   "execution_count": 60,
   "metadata": {},
   "outputs": [],
   "source": [
    "lab_enc=LabelEncoder()\n",
    "\n",
    "X=test_df[non_word_column+words_columns]\n",
    "y=test_df['Tag']\n"
   ]
  },
  {
   "cell_type": "code",
   "execution_count": 61,
   "metadata": {},
   "outputs": [],
   "source": [
    "y=lab_enc.fit_transform(y.fillna(''))"
   ]
  },
  {
   "cell_type": "code",
   "execution_count": 62,
   "metadata": {},
   "outputs": [],
   "source": [
    "X_train,X_test,y_train,y_test=train_test_split(X,y,test_size=0.2)"
   ]
  },
  {
   "cell_type": "code",
   "execution_count": 63,
   "metadata": {},
   "outputs": [],
   "source": [
    "#a=tfidf_titre.fit_transform(rsmpl_df.Title)"
   ]
  },
  {
   "cell_type": "code",
   "execution_count": 64,
   "metadata": {},
   "outputs": [],
   "source": [
    "#a"
   ]
  },
  {
   "cell_type": "code",
   "execution_count": 65,
   "metadata": {},
   "outputs": [],
   "source": [
    "#a=tsvd2.fit_transform(a)"
   ]
  },
  {
   "cell_type": "code",
   "execution_count": 66,
   "metadata": {},
   "outputs": [],
   "source": [
    "#print(np.cumsum(np.round(tsvd2.explained_variance_ratio_, decimals=4)*100))\n",
    "#plt.plot(np.cumsum(np.round(tsvd2.explained_variance_ratio_, decimals=4)*100))"
   ]
  },
  {
   "cell_type": "code",
   "execution_count": 67,
   "metadata": {},
   "outputs": [],
   "source": [
    "std=StandardScaler()\n",
    "tsvd=TruncatedSVD(n_components=150, n_iter=20, random_state=2)\n",
    "tsvd2=TruncatedSVD(n_components=60, n_iter=25, random_state=2)\n",
    "\n",
    "\n",
    "word_proc=Pipeline([\n",
    "    ('Tf-Idf',tfidf),\n",
    "    ('truncatedSVD_word',tsvd),\n",
    "],verbose=True)\n",
    "title_proc=Pipeline([\n",
    "    ('Tf-Idf',tfidf_titre),\n",
    "    ('truncatedSVD',tsvd2),\n",
    "],verbose=True)\n",
    "\n",
    "\n",
    "col_proc=ColumnTransformer([\n",
    "    ('Scale',std,non_word_column),\n",
    "    ('Word_processing',word_proc,'Body_text'),\n",
    "    ('Title_processing',title_proc,'Title'),\n",
    "],n_jobs=-3,verbose=True)\n",
    "\n",
    "def pipe(model) :\n",
    "    pipe=Pipeline([\n",
    "#        ('Préparation des données',col_proc),\n",
    "        (str(model)[:5],model),\n",
    "    ],verbose=True)\n",
    "    return pipe"
   ]
  },
  {
   "cell_type": "code",
   "execution_count": null,
   "metadata": {},
   "outputs": [],
   "source": []
  },
  {
   "cell_type": "code",
   "execution_count": 68,
   "metadata": {},
   "outputs": [],
   "source": [
    "def proba_label(model,X,n_class):\n",
    "    x=pd.DataFrame(model.predict_proba(X))\n",
    "    x.columns=lab_enc.inverse_transform(x.columns)\n",
    "    z=pd.DataFrame(index=x.index,columns=[str(n_class)+' most likely tags'])\n",
    "    z[str(n_class)+' most likely tags']=[\n",
    "        {k:v for k,v in x.transpose()[i].sort_values(ascending=False)[:n_class].items()} for i in x.index\n",
    "    ]\n",
    "    return (x,z[str(n_class)+' most likely tags'])"
   ]
  },
  {
   "cell_type": "code",
   "execution_count": 69,
   "metadata": {},
   "outputs": [],
   "source": [
    "stratK=StratifiedKFold(n_splits=10,shuffle=True,random_state=2)\n",
    "kfolds=stratK.split(X_train,y_train)\n",
    "i=0\n",
    "train_folds=dict()\n",
    "test_folds=dict()\n",
    "train_folds_target=dict()\n",
    "test_folds_target=dict()\n",
    "for train,test in kfolds:\n",
    "    train_folds[i]=X_train.iloc[train,:]\n",
    "    test_folds[i]=X_train.iloc[test,:] \n",
    "    train_folds_target[i]=y_train[train]\n",
    "    test_folds_target[i]=y_train[test] \n",
    "    i+=1\n",
    "del i"
   ]
  },
  {
   "cell_type": "code",
   "execution_count": 74,
   "metadata": {},
   "outputs": [
    {
     "name": "stdout",
     "output_type": "stream",
     "text": [
      "fold - 0 prepared\n",
      "fold - 1 prepared\n",
      "fold - 2 prepared\n",
      "fold - 3 prepared\n",
      "fold - 4 prepared\n",
      "fold - 5 prepared\n",
      "fold - 6 prepared\n",
      "fold - 7 prepared\n",
      "fold - 8 prepared\n",
      "fold - 9 prepared\n"
     ]
    }
   ],
   "source": [
    "col_proc_folds=dict()\n",
    "prepared_train_folds=dict()\n",
    "for i in np.arange(len(train_folds)):\n",
    "    col_proc_folds[i]=ColumnTransformer([\n",
    "    ('Scale',std,non_word_column),\n",
    "    ('Word_processing',word_proc,'Body_text'),\n",
    "    ('Title_processing',title_proc,'Title'),\n",
    "],n_jobs=-3,verbose=True)\n",
    "    prepared_train_folds[i]=col_proc_folds[i].fit_transform(train_folds[i])\n",
    "    print('fold - %s prepared'%i)"
   ]
  },
  {
   "cell_type": "code",
   "execution_count": 75,
   "metadata": {},
   "outputs": [
    {
     "name": "stdout",
     "output_type": "stream",
     "text": [
      "fold - 0 prepared\n",
      "fold - 1 prepared\n",
      "fold - 2 prepared\n",
      "fold - 3 prepared\n",
      "fold - 4 prepared\n",
      "fold - 5 prepared\n",
      "fold - 6 prepared\n",
      "fold - 7 prepared\n",
      "fold - 8 prepared\n",
      "fold - 9 prepared\n"
     ]
    }
   ],
   "source": [
    "prepared_test_folds=dict()\n",
    "for i in np.arange(len(train_folds)):\n",
    "    prepared_test_folds[i]=col_proc_folds[i].transform(test_folds[i])\n",
    "    print('fold - %s prepared'%i)"
   ]
  },
  {
   "cell_type": "code",
   "execution_count": 102,
   "metadata": {},
   "outputs": [
    {
     "ename": "SyntaxError",
     "evalue": "invalid syntax (<ipython-input-102-b6f8f0a53023>, line 6)",
     "output_type": "error",
     "traceback": [
      "\u001b[1;36m  File \u001b[1;32m\"<ipython-input-102-b6f8f0a53023>\"\u001b[1;36m, line \u001b[1;32m6\u001b[0m\n\u001b[1;33m    for i in np.arange(len(params.keys())):\u001b[0m\n\u001b[1;37m                                          ^\u001b[0m\n\u001b[1;31mSyntaxError\u001b[0m\u001b[1;31m:\u001b[0m invalid syntax\n"
     ]
    }
   ],
   "source": [
    "def k_fold_gridsearch(estimator,kfoldtrain,kfoldtest,target_train,target_test,params,verbose,n_jobs):\n",
    "    grid=dict()\n",
    "    score=dict()\n",
    "    param=dict()\n",
    "    print('fitting %s folds for % candidates'\n",
    "          %(len(kfoldtrain.keys()),np.prod([len(params[i].values()) for i in params.keys()]) )\n",
    "    \n",
    "    for key, values in params.items:\n",
    "          \n",
    "    for i in np.arange(len(params.keys())):\n",
    "        grid[i]=GridSearchCV(estimator=estimator,param_grid=params,cv=5,n_jobs=n_jobs,verbose=verbose)\n",
    "    print('grids instanciated')\n",
    "    \n",
    "          \n",
    "    for i in np.arange(len(kfoldtrain)):\n",
    "            grid[i].fit(kfoldtrain[i],target_train[i])\n",
    "            print('grid - %s fitted'%i)\n",
    "            param[i]=grid[i].best_params_\n",
    "            score=grid[i].score(kfoldtest[i],target_test[i])\n",
    "            print('score for %s is %s and parameters %s'%(i,score[i],param[i]))\n",
    "    return grid,score,param"
   ]
  },
  {
   "cell_type": "markdown",
   "metadata": {},
   "source": [
    "### Modèles."
   ]
  },
  {
   "cell_type": "markdown",
   "metadata": {},
   "source": [
    "#### Naive Base"
   ]
  },
  {
   "cell_type": "code",
   "execution_count": 86,
   "metadata": {},
   "outputs": [],
   "source": [
    "nb=BernoulliNB()\n",
    "pipebnb=pipe(nb,)"
   ]
  },
  {
   "cell_type": "code",
   "execution_count": 91,
   "metadata": {},
   "outputs": [
    {
     "data": {
      "text/plain": [
       "{'alpha': 1.0, 'binarize': 0.0, 'class_prior': None, 'fit_prior': True}"
      ]
     },
     "execution_count": 91,
     "metadata": {},
     "output_type": "execute_result"
    }
   ],
   "source": [
    "nb.get_params()"
   ]
  },
  {
   "cell_type": "code",
   "execution_count": 93,
   "metadata": {},
   "outputs": [
    {
     "data": {
      "text/plain": [
       "{0: array([[ 5.63695975e-01,  1.15378947e-01, -6.94865931e-02, ...,\n",
       "         -2.07784532e-02, -7.16709072e-02, -2.33475444e-03],\n",
       "        [ 3.57121402e-01, -8.17331979e-01,  1.16338294e-01, ...,\n",
       "         -7.79788884e-02, -5.37879910e-02,  1.73523436e-02],\n",
       "        [ 1.18341969e+00, -8.17331979e-01, -2.55311480e-01, ...,\n",
       "         -4.96176254e-02, -4.49105178e-02,  6.46093448e-02],\n",
       "        ...,\n",
       "        [-4.69176890e-01, -5.06428337e-01,  1.98451743e-03, ...,\n",
       "         -2.59603512e-02,  1.01152309e-02,  2.56174730e-03],\n",
       "        [ 2.83601628e+00, -1.95524695e-01,  3.34683249e+00, ...,\n",
       "          3.72095795e-03, -1.30700941e-03,  4.82381609e-03],\n",
       "        [-2.62602317e-01,  1.98080080e+00, -1.98134592e-01, ...,\n",
       "         -1.75642334e-02, -1.04482483e-01, -5.27544605e-02]]),\n",
       " 1: array([[-6.72766421e-01, -8.18020627e-01, -2.27009552e-01, ...,\n",
       "         -5.07778163e-02, -1.18742147e-01,  1.42270743e-01],\n",
       "        [-2.62798976e-01, -5.06268474e-01, -1.27350281e-01, ...,\n",
       "         -1.39338425e-01,  7.43642933e-02, -4.99960916e-02],\n",
       "        [ 1.17208708e+00, -5.06268474e-01, -5.61650882e-02, ...,\n",
       "         -4.44837040e-03,  2.38099847e-01,  1.20061764e-02],\n",
       "        ...,\n",
       "        [ 7.62119637e-01,  1.17235833e-01,  8.62052980e-02, ...,\n",
       "         -7.01785959e-04, -5.50617336e-03,  2.43846903e-03],\n",
       "        [-4.67782698e-01, -8.18020627e-01, -1.34539723e-02, ...,\n",
       "         -1.06657759e-02, -1.48944167e-02,  1.33507712e-03],\n",
       "        [-4.67782698e-01,  1.36424445e+00, -2.27009552e-01, ...,\n",
       "          7.35985482e-03,  8.55439811e-03, -1.11819952e-02]]),\n",
       " 2: array([[-6.73493682e-01,  1.17592802e-01, -1.99777805e-01, ...,\n",
       "          1.59303665e-01,  3.96534799e-02,  2.28913872e-01],\n",
       "        [-5.79519640e-02, -1.94346627e-01, -2.68772719e-02, ...,\n",
       "          1.50295295e-02,  2.36682727e-02,  1.79816049e-02],\n",
       "        [-6.73493682e-01, -1.94346627e-01, -1.70961050e-01, ...,\n",
       "         -9.20390424e-02, -3.90525821e-02, -8.00540164e-02],\n",
       "        ...,\n",
       "        [-4.68313110e-01, -5.06286056e-01, -2.28594561e-01, ...,\n",
       "         -1.92451717e-02,  2.26190042e-02,  4.23352946e-04],\n",
       "        [-6.73493682e-01, -1.94346627e-01, -2.43002938e-01, ...,\n",
       "          2.05959290e-02,  2.44612338e-02,  2.50435104e-02],\n",
       "        [-6.73493682e-01, -8.18225485e-01, -1.27735916e-01, ...,\n",
       "          6.48437254e-02, -4.76973810e-02, -7.76119607e-03]]),\n",
       " 3: array([[ 0.35381511, -0.81613712,  0.12940462, ...,  0.0078115 ,\n",
       "         -0.00396742,  0.0184512 ],\n",
       "        [-0.67775081,  0.11895016, -0.19841654, ..., -0.05497747,\n",
       "         -0.05146071,  0.01315696],\n",
       "        [-0.05881126,  0.11895016, -0.22692272, ..., -0.0283355 ,\n",
       "          0.00197434, -0.00696129],\n",
       "        ...,\n",
       "        [-0.26512444, -0.50444136, -0.01312632, ...,  0.02645795,\n",
       "          0.01785258,  0.00548296],\n",
       "        [ 0.14750193, -0.1927456 , -0.269682  , ..., -0.07281394,\n",
       "         -0.01491416,  0.0051597 ],\n",
       "        [-0.67775081,  0.43064592, -0.18416344, ...,  0.13699347,\n",
       "          0.20156279, -0.19794838]]),\n",
       " 4: array([[-2.62795847e-01,  1.05260129e+00,  7.85279089e-02, ...,\n",
       "         -1.20404894e-03, -2.72765072e-02, -6.17950690e-02],\n",
       "        [-6.75072835e-01,  3.54680765e+00,  3.34786116e+00, ...,\n",
       "          8.01426264e-03, -1.59251863e-02, -1.18142409e-02],\n",
       "        [ 9.74035119e-01, -1.94501886e-01,  1.08799513e-01, ...,\n",
       "         -5.90528198e-03, -4.05760402e-02,  2.00875813e-02],\n",
       "        ...,\n",
       "        [-4.68934341e-01, -1.94501886e-01,  6.53688389e-01, ...,\n",
       "         -1.72001192e-02, -5.56434077e-03,  2.97521503e-02],\n",
       "        [-4.68934341e-01,  7.40825498e-01,  4.41787159e-01, ...,\n",
       "         -6.44477211e-02,  8.53684045e-02,  1.27225852e-01],\n",
       "        [ 1.49481142e-01, -1.94501886e-01,  3.20700742e-01, ...,\n",
       "          5.77823387e-03,  7.67356174e-03, -8.50352772e-03]]),\n",
       " 5: array([[ 1.78939815e+00,  4.29580505e-01, -1.55406099e-01, ...,\n",
       "         -2.95884409e-02,  5.72663209e-04,  2.13391810e-02],\n",
       "        [-6.74620321e-01, -8.16416900e-01, -2.40891535e-01, ...,\n",
       "          1.23365681e-02,  1.52121347e-02,  6.77588592e-02],\n",
       "        [-6.74620321e-01,  4.29580505e-01,  1.01289485e+00, ...,\n",
       "          8.15094811e-03, -3.50681012e-04,  8.65440518e-03],\n",
       "        ...,\n",
       "        [-6.74620321e-01, -8.16416900e-01, -2.12396390e-01, ...,\n",
       "          2.28077973e-02, -1.36921889e-02, -1.98892380e-02],\n",
       "        [-6.74620321e-01, -1.93418197e-01, -5.56730915e-02, ...,\n",
       "          3.31899707e-03, -1.16899275e-02, -1.20818174e-02],\n",
       "        [-6.74620321e-01,  1.18081154e-01, -2.40891535e-01, ...,\n",
       "          5.61571247e-03,  1.02506347e-02, -1.80092734e-02]]),\n",
       " 6: array([[-0.05881094, -0.50598291,  0.27532468, ...,  0.01771846,\n",
       "         -0.01765124, -0.01067151],\n",
       "        [-0.46863707, -0.50598291, -0.2414863 , ...,  0.01416067,\n",
       "         -0.00516922,  0.05283948],\n",
       "        [-0.46863707, -0.81804429, -0.19841872, ...,  0.02256146,\n",
       "          0.01142973, -0.01486598],\n",
       "        ...,\n",
       "        [-0.05881094,  0.11813985,  0.7060005 , ...,  0.06739813,\n",
       "         -0.00872523, -0.02470288],\n",
       "        [ 0.55592827, -0.81804429,  0.27532468, ...,  0.08113626,\n",
       "          0.0197741 , -0.07545992],\n",
       "        [-0.67355014,  0.11813985, -0.22713044, ...,  0.03399575,\n",
       "         -0.04085738,  0.0043977 ]]),\n",
       " 7: array([[ 3.02835021e+00, -1.94931201e-01, -1.95133785e-01, ...,\n",
       "          7.45094977e-03, -1.33265505e-02,  5.90204344e-03],\n",
       "        [-6.74491981e-01, -8.18291724e-01, -2.25720919e-01, ...,\n",
       "         -5.37974819e-03,  1.45980450e-02, -6.28031532e-03],\n",
       "        [-2.63065071e-01, -1.94931201e-01, -2.86895187e-01, ...,\n",
       "         -1.82671019e-02,  1.60064382e-02,  6.26846227e-02],\n",
       "        ...,\n",
       "        [-6.74491981e-01, -8.18291724e-01, -2.86895187e-01, ...,\n",
       "         -3.64804078e-03, -1.02493091e-02,  1.25820916e-02],\n",
       "        [-6.74491981e-01, -1.94931201e-01, -2.56308053e-01, ...,\n",
       "         -1.09330681e-02, -1.87887361e-02,  7.36442891e-03],\n",
       "        [ 5.59788749e-01, -8.18291724e-01,  3.42697190e-02, ...,\n",
       "         -6.80173913e-03,  9.92560759e-03,  1.53617841e-03]]),\n",
       " 8: array([[ 4.04815142, -0.8172899 ,  0.87561942, ..., -0.02188583,\n",
       "         -0.00686742,  0.0154793 ],\n",
       "        [ 0.1461427 ,  0.11730539, -0.23011097, ...,  0.07245196,\n",
       "          0.11536078, -0.03684252],\n",
       "        [-0.46996394, -0.8172899 , -0.30261788, ...,  0.01809069,\n",
       "          0.022039  ,  0.00775314],\n",
       "        ...,\n",
       "        [-0.05922618, -0.19422638,  0.09617013, ...,  0.01203892,\n",
       "         -0.18920456, -0.03782458],\n",
       "        [-0.67533282, -0.8172899 ,  0.00553649, ...,  0.01229302,\n",
       "          0.0261425 ,  0.00421843],\n",
       "        [ 0.55688046, -0.19422638,  1.54630834, ..., -0.01724714,\n",
       "          0.06660898,  0.00702946]]),\n",
       " 9: array([[-5.94315444e-02, -1.94248604e-01,  2.98000006e-02, ...,\n",
       "         -3.09809045e-04,  1.34970611e-02,  8.04499937e-03],\n",
       "        [-4.69563682e-01, -8.18983615e-01, -2.27804516e-01, ...,\n",
       "          1.15753762e-02,  2.10825212e-02,  1.67965321e-02],\n",
       "        [-6.74629751e-01, -8.18983615e-01, -2.27804516e-01, ...,\n",
       "         -1.52603864e-02, -2.96206349e-02, -6.23065083e-02],\n",
       "        ...,\n",
       "        [-2.64497613e-01, -8.18983615e-01, -2.74454476e-02, ...,\n",
       "         -3.14406255e-02, -2.42266817e-02, -1.89204372e-02],\n",
       "        [ 1.45634525e-01, -1.94248604e-01, -2.70738603e-01, ...,\n",
       "         -4.91502871e-02,  2.82686354e-02,  2.34861894e-02],\n",
       "        [-6.74629751e-01, -8.18983615e-01, -2.13493154e-01, ...,\n",
       "          8.01646673e-04,  7.76655138e-04, -2.39883479e-03]])}"
      ]
     },
     "execution_count": 93,
     "metadata": {},
     "output_type": "execute_result"
    }
   ],
   "source": [
    "prepared_test_folds"
   ]
  },
  {
   "cell_type": "code",
   "execution_count": 195,
   "metadata": {},
   "outputs": [],
   "source": [
    "grid_bnb=GridSearchCV(nb,{'Berno__alpha': np.arange(0.1,1,0.1),},cv=np.arange(len(prepared_test_folds.keys())),n_jobs=-3,verbose=3)\n"
   ]
  },
  {
   "cell_type": "code",
   "execution_count": 196,
   "metadata": {},
   "outputs": [
    {
     "name": "stdout",
     "output_type": "stream",
     "text": [
      "Fitting 10 folds for each of 9 candidates, totalling 90 fits\n"
     ]
    },
    {
     "ename": "TypeError",
     "evalue": "cannot unpack non-iterable numpy.int32 object",
     "output_type": "error",
     "traceback": [
      "\u001b[1;31m---------------------------------------------------------------------------\u001b[0m",
      "\u001b[1;31mTypeError\u001b[0m                                 Traceback (most recent call last)",
      "\u001b[1;32m<ipython-input-196-426b5202cf06>\u001b[0m in \u001b[0;36m<module>\u001b[1;34m\u001b[0m\n\u001b[0;32m      1\u001b[0m \u001b[1;31m#pipebnb.fit(X_train.iloc[:],y_train[:])\u001b[0m\u001b[1;33m\u001b[0m\u001b[1;33m\u001b[0m\u001b[1;33m\u001b[0m\u001b[0m\n\u001b[1;32m----> 2\u001b[1;33m \u001b[0mgrid_bnb\u001b[0m\u001b[1;33m.\u001b[0m\u001b[0mfit\u001b[0m\u001b[1;33m(\u001b[0m\u001b[0mprepared_train_folds\u001b[0m\u001b[1;33m,\u001b[0m\u001b[0mprepared_test_folds\u001b[0m\u001b[1;33m)\u001b[0m\u001b[1;33m\u001b[0m\u001b[1;33m\u001b[0m\u001b[0m\n\u001b[0m",
      "\u001b[1;32mC:\\ProgramData\\Anaconda3\\lib\\site-packages\\sklearn\\utils\\validation.py\u001b[0m in \u001b[0;36minner_f\u001b[1;34m(*args, **kwargs)\u001b[0m\n\u001b[0;32m     70\u001b[0m                           FutureWarning)\n\u001b[0;32m     71\u001b[0m         \u001b[0mkwargs\u001b[0m\u001b[1;33m.\u001b[0m\u001b[0mupdate\u001b[0m\u001b[1;33m(\u001b[0m\u001b[1;33m{\u001b[0m\u001b[0mk\u001b[0m\u001b[1;33m:\u001b[0m \u001b[0marg\u001b[0m \u001b[1;32mfor\u001b[0m \u001b[0mk\u001b[0m\u001b[1;33m,\u001b[0m \u001b[0marg\u001b[0m \u001b[1;32min\u001b[0m \u001b[0mzip\u001b[0m\u001b[1;33m(\u001b[0m\u001b[0msig\u001b[0m\u001b[1;33m.\u001b[0m\u001b[0mparameters\u001b[0m\u001b[1;33m,\u001b[0m \u001b[0margs\u001b[0m\u001b[1;33m)\u001b[0m\u001b[1;33m}\u001b[0m\u001b[1;33m)\u001b[0m\u001b[1;33m\u001b[0m\u001b[1;33m\u001b[0m\u001b[0m\n\u001b[1;32m---> 72\u001b[1;33m         \u001b[1;32mreturn\u001b[0m \u001b[0mf\u001b[0m\u001b[1;33m(\u001b[0m\u001b[1;33m**\u001b[0m\u001b[0mkwargs\u001b[0m\u001b[1;33m)\u001b[0m\u001b[1;33m\u001b[0m\u001b[1;33m\u001b[0m\u001b[0m\n\u001b[0m\u001b[0;32m     73\u001b[0m     \u001b[1;32mreturn\u001b[0m \u001b[0minner_f\u001b[0m\u001b[1;33m\u001b[0m\u001b[1;33m\u001b[0m\u001b[0m\n\u001b[0;32m     74\u001b[0m \u001b[1;33m\u001b[0m\u001b[0m\n",
      "\u001b[1;32mC:\\ProgramData\\Anaconda3\\lib\\site-packages\\sklearn\\model_selection\\_search.py\u001b[0m in \u001b[0;36mfit\u001b[1;34m(self, X, y, groups, **fit_params)\u001b[0m\n\u001b[0;32m    734\u001b[0m                 \u001b[1;32mreturn\u001b[0m \u001b[0mresults\u001b[0m\u001b[1;33m\u001b[0m\u001b[1;33m\u001b[0m\u001b[0m\n\u001b[0;32m    735\u001b[0m \u001b[1;33m\u001b[0m\u001b[0m\n\u001b[1;32m--> 736\u001b[1;33m             \u001b[0mself\u001b[0m\u001b[1;33m.\u001b[0m\u001b[0m_run_search\u001b[0m\u001b[1;33m(\u001b[0m\u001b[0mevaluate_candidates\u001b[0m\u001b[1;33m)\u001b[0m\u001b[1;33m\u001b[0m\u001b[1;33m\u001b[0m\u001b[0m\n\u001b[0m\u001b[0;32m    737\u001b[0m \u001b[1;33m\u001b[0m\u001b[0m\n\u001b[0;32m    738\u001b[0m         \u001b[1;31m# For multi-metric evaluation, store the best_index_, best_params_ and\u001b[0m\u001b[1;33m\u001b[0m\u001b[1;33m\u001b[0m\u001b[1;33m\u001b[0m\u001b[0m\n",
      "\u001b[1;32mC:\\ProgramData\\Anaconda3\\lib\\site-packages\\sklearn\\model_selection\\_search.py\u001b[0m in \u001b[0;36m_run_search\u001b[1;34m(self, evaluate_candidates)\u001b[0m\n\u001b[0;32m   1186\u001b[0m     \u001b[1;32mdef\u001b[0m \u001b[0m_run_search\u001b[0m\u001b[1;33m(\u001b[0m\u001b[0mself\u001b[0m\u001b[1;33m,\u001b[0m \u001b[0mevaluate_candidates\u001b[0m\u001b[1;33m)\u001b[0m\u001b[1;33m:\u001b[0m\u001b[1;33m\u001b[0m\u001b[1;33m\u001b[0m\u001b[0m\n\u001b[0;32m   1187\u001b[0m         \u001b[1;34m\"\"\"Search all candidates in param_grid\"\"\"\u001b[0m\u001b[1;33m\u001b[0m\u001b[1;33m\u001b[0m\u001b[0m\n\u001b[1;32m-> 1188\u001b[1;33m         \u001b[0mevaluate_candidates\u001b[0m\u001b[1;33m(\u001b[0m\u001b[0mParameterGrid\u001b[0m\u001b[1;33m(\u001b[0m\u001b[0mself\u001b[0m\u001b[1;33m.\u001b[0m\u001b[0mparam_grid\u001b[0m\u001b[1;33m)\u001b[0m\u001b[1;33m)\u001b[0m\u001b[1;33m\u001b[0m\u001b[1;33m\u001b[0m\u001b[0m\n\u001b[0m\u001b[0;32m   1189\u001b[0m \u001b[1;33m\u001b[0m\u001b[0m\n\u001b[0;32m   1190\u001b[0m \u001b[1;33m\u001b[0m\u001b[0m\n",
      "\u001b[1;32mC:\\ProgramData\\Anaconda3\\lib\\site-packages\\sklearn\\model_selection\\_search.py\u001b[0m in \u001b[0;36mevaluate_candidates\u001b[1;34m(candidate_params)\u001b[0m\n\u001b[0;32m    713\u001b[0m                                \u001b[1;32mfor\u001b[0m \u001b[0mparameters\u001b[0m\u001b[1;33m,\u001b[0m \u001b[1;33m(\u001b[0m\u001b[0mtrain\u001b[0m\u001b[1;33m,\u001b[0m \u001b[0mtest\u001b[0m\u001b[1;33m)\u001b[0m\u001b[1;33m\u001b[0m\u001b[1;33m\u001b[0m\u001b[0m\n\u001b[0;32m    714\u001b[0m                                in product(candidate_params,\n\u001b[1;32m--> 715\u001b[1;33m                                           cv.split(X, y, groups)))\n\u001b[0m\u001b[0;32m    716\u001b[0m \u001b[1;33m\u001b[0m\u001b[0m\n\u001b[0;32m    717\u001b[0m                 \u001b[1;32mif\u001b[0m \u001b[0mlen\u001b[0m\u001b[1;33m(\u001b[0m\u001b[0mout\u001b[0m\u001b[1;33m)\u001b[0m \u001b[1;33m<\u001b[0m \u001b[1;36m1\u001b[0m\u001b[1;33m:\u001b[0m\u001b[1;33m\u001b[0m\u001b[1;33m\u001b[0m\u001b[0m\n",
      "\u001b[1;32mC:\\ProgramData\\Anaconda3\\lib\\site-packages\\sklearn\\model_selection\\_split.py\u001b[0m in \u001b[0;36msplit\u001b[1;34m(self, X, y, groups)\u001b[0m\n\u001b[0;32m   1968\u001b[0m             \u001b[0mThe\u001b[0m \u001b[0mtesting\u001b[0m \u001b[0mset\u001b[0m \u001b[0mindices\u001b[0m \u001b[1;32mfor\u001b[0m \u001b[0mthat\u001b[0m \u001b[0msplit\u001b[0m\u001b[1;33m.\u001b[0m\u001b[1;33m\u001b[0m\u001b[1;33m\u001b[0m\u001b[0m\n\u001b[0;32m   1969\u001b[0m         \"\"\"\n\u001b[1;32m-> 1970\u001b[1;33m         \u001b[1;32mfor\u001b[0m \u001b[0mtrain\u001b[0m\u001b[1;33m,\u001b[0m \u001b[0mtest\u001b[0m \u001b[1;32min\u001b[0m \u001b[0mself\u001b[0m\u001b[1;33m.\u001b[0m\u001b[0mcv\u001b[0m\u001b[1;33m:\u001b[0m\u001b[1;33m\u001b[0m\u001b[1;33m\u001b[0m\u001b[0m\n\u001b[0m\u001b[0;32m   1971\u001b[0m             \u001b[1;32myield\u001b[0m \u001b[0mtrain\u001b[0m\u001b[1;33m,\u001b[0m \u001b[0mtest\u001b[0m\u001b[1;33m\u001b[0m\u001b[1;33m\u001b[0m\u001b[0m\n\u001b[0;32m   1972\u001b[0m \u001b[1;33m\u001b[0m\u001b[0m\n",
      "\u001b[1;31mTypeError\u001b[0m: cannot unpack non-iterable numpy.int32 object"
     ]
    }
   ],
   "source": [
    "#pipebnb.fit(X_train.iloc[:],y_train[:])\n",
    "grid_bnb.fit(prepared_train_folds,prepared_test_folds)"
   ]
  },
  {
   "cell_type": "code",
   "execution_count": 50,
   "metadata": {},
   "outputs": [
    {
     "data": {
      "text/plain": [
       "0.41503866503866504"
      ]
     },
     "execution_count": 50,
     "metadata": {},
     "output_type": "execute_result"
    }
   ],
   "source": [
    "grid_bnb.score(X_test,y_test)"
   ]
  },
  {
   "cell_type": "code",
   "execution_count": 51,
   "metadata": {},
   "outputs": [
    {
     "data": {
      "text/plain": [
       "{'Berno__alpha': 0.8}"
      ]
     },
     "execution_count": 51,
     "metadata": {},
     "output_type": "execute_result"
    }
   ],
   "source": [
    "grid_bnb.best_params_"
   ]
  },
  {
   "cell_type": "markdown",
   "metadata": {},
   "source": [
    "#### Logistic Regression\n"
   ]
  },
  {
   "cell_type": "code",
   "execution_count": 52,
   "metadata": {},
   "outputs": [],
   "source": [
    "logreg=LogisticRegression(solver='saga',n_jobs=-3,verbose=10,max_iter=500,random_state=2)\n",
    "pipelog=pipe(logreg)"
   ]
  },
  {
   "cell_type": "code",
   "execution_count": 53,
   "metadata": {
    "scrolled": true
   },
   "outputs": [
    {
     "data": {
      "text/plain": [
       "{'memory': None,\n",
       " 'steps': [('Préparation des données',\n",
       "   ColumnTransformer(n_jobs=-3,\n",
       "                     transformers=[('Scale', StandardScaler(),\n",
       "                                    ['AnswerCount', 'CommentCount',\n",
       "                                     'FavoriteCount', 'Score', 'ViewCount',\n",
       "                                     'year']),\n",
       "                                   ('Word_processing',\n",
       "                                    Pipeline(steps=[('Tf-Idf',\n",
       "                                                     TfidfVectorizer(max_df=0.9,\n",
       "                                                                     min_df=0.0025,\n",
       "                                                                     ngram_range=(1,\n",
       "                                                                                  3),\n",
       "                                                                     stop_words='english',\n",
       "                                                                     sublinear_tf=True)),\n",
       "                                                    ('truncatedSVD_word',\n",
       "                                                     TruncatedSVD(n_components=150,\n",
       "                                                                  n_iter=20,\n",
       "                                                                  random_state=2))],\n",
       "                                             verbose=True),\n",
       "                                    'Body_text'),\n",
       "                                   ('Title_processing',\n",
       "                                    Pipeline(steps=[('Tf-Idf',\n",
       "                                                     TfidfVectorizer(max_df=0.95,\n",
       "                                                                     min_df=0.001,\n",
       "                                                                     ngram_range=(1,\n",
       "                                                                                  3),\n",
       "                                                                     stop_words='english',\n",
       "                                                                     sublinear_tf=True)),\n",
       "                                                    ('truncatedSVD',\n",
       "                                                     TruncatedSVD(n_components=60,\n",
       "                                                                  n_iter=25,\n",
       "                                                                  random_state=2))],\n",
       "                                             verbose=True),\n",
       "                                    'Title')],\n",
       "                     verbose=True)),\n",
       "  ('Logis',\n",
       "   LogisticRegression(max_iter=500, n_jobs=-3, random_state=2, solver='saga',\n",
       "                      verbose=10))],\n",
       " 'verbose': True,\n",
       " 'Préparation des données': ColumnTransformer(n_jobs=-3,\n",
       "                   transformers=[('Scale', StandardScaler(),\n",
       "                                  ['AnswerCount', 'CommentCount',\n",
       "                                   'FavoriteCount', 'Score', 'ViewCount',\n",
       "                                   'year']),\n",
       "                                 ('Word_processing',\n",
       "                                  Pipeline(steps=[('Tf-Idf',\n",
       "                                                   TfidfVectorizer(max_df=0.9,\n",
       "                                                                   min_df=0.0025,\n",
       "                                                                   ngram_range=(1,\n",
       "                                                                                3),\n",
       "                                                                   stop_words='english',\n",
       "                                                                   sublinear_tf=True)),\n",
       "                                                  ('truncatedSVD_word',\n",
       "                                                   TruncatedSVD(n_components=150,\n",
       "                                                                n_iter=20,\n",
       "                                                                random_state=2))],\n",
       "                                           verbose=True),\n",
       "                                  'Body_text'),\n",
       "                                 ('Title_processing',\n",
       "                                  Pipeline(steps=[('Tf-Idf',\n",
       "                                                   TfidfVectorizer(max_df=0.95,\n",
       "                                                                   min_df=0.001,\n",
       "                                                                   ngram_range=(1,\n",
       "                                                                                3),\n",
       "                                                                   stop_words='english',\n",
       "                                                                   sublinear_tf=True)),\n",
       "                                                  ('truncatedSVD',\n",
       "                                                   TruncatedSVD(n_components=60,\n",
       "                                                                n_iter=25,\n",
       "                                                                random_state=2))],\n",
       "                                           verbose=True),\n",
       "                                  'Title')],\n",
       "                   verbose=True),\n",
       " 'Logis': LogisticRegression(max_iter=500, n_jobs=-3, random_state=2, solver='saga',\n",
       "                    verbose=10),\n",
       " 'Préparation des données__n_jobs': -3,\n",
       " 'Préparation des données__remainder': 'drop',\n",
       " 'Préparation des données__sparse_threshold': 0.3,\n",
       " 'Préparation des données__transformer_weights': None,\n",
       " 'Préparation des données__transformers': [('Scale',\n",
       "   StandardScaler(),\n",
       "   ['AnswerCount',\n",
       "    'CommentCount',\n",
       "    'FavoriteCount',\n",
       "    'Score',\n",
       "    'ViewCount',\n",
       "    'year']),\n",
       "  ('Word_processing',\n",
       "   Pipeline(steps=[('Tf-Idf',\n",
       "                    TfidfVectorizer(max_df=0.9, min_df=0.0025, ngram_range=(1, 3),\n",
       "                                    stop_words='english', sublinear_tf=True)),\n",
       "                   ('truncatedSVD_word',\n",
       "                    TruncatedSVD(n_components=150, n_iter=20, random_state=2))],\n",
       "            verbose=True),\n",
       "   'Body_text'),\n",
       "  ('Title_processing',\n",
       "   Pipeline(steps=[('Tf-Idf',\n",
       "                    TfidfVectorizer(max_df=0.95, min_df=0.001, ngram_range=(1, 3),\n",
       "                                    stop_words='english', sublinear_tf=True)),\n",
       "                   ('truncatedSVD',\n",
       "                    TruncatedSVD(n_components=60, n_iter=25, random_state=2))],\n",
       "            verbose=True),\n",
       "   'Title')],\n",
       " 'Préparation des données__verbose': True,\n",
       " 'Préparation des données__Scale': StandardScaler(),\n",
       " 'Préparation des données__Word_processing': Pipeline(steps=[('Tf-Idf',\n",
       "                  TfidfVectorizer(max_df=0.9, min_df=0.0025, ngram_range=(1, 3),\n",
       "                                  stop_words='english', sublinear_tf=True)),\n",
       "                 ('truncatedSVD_word',\n",
       "                  TruncatedSVD(n_components=150, n_iter=20, random_state=2))],\n",
       "          verbose=True),\n",
       " 'Préparation des données__Title_processing': Pipeline(steps=[('Tf-Idf',\n",
       "                  TfidfVectorizer(max_df=0.95, min_df=0.001, ngram_range=(1, 3),\n",
       "                                  stop_words='english', sublinear_tf=True)),\n",
       "                 ('truncatedSVD',\n",
       "                  TruncatedSVD(n_components=60, n_iter=25, random_state=2))],\n",
       "          verbose=True),\n",
       " 'Préparation des données__Scale__copy': True,\n",
       " 'Préparation des données__Scale__with_mean': True,\n",
       " 'Préparation des données__Scale__with_std': True,\n",
       " 'Préparation des données__Word_processing__memory': None,\n",
       " 'Préparation des données__Word_processing__steps': [('Tf-Idf',\n",
       "   TfidfVectorizer(max_df=0.9, min_df=0.0025, ngram_range=(1, 3),\n",
       "                   stop_words='english', sublinear_tf=True)),\n",
       "  ('truncatedSVD_word',\n",
       "   TruncatedSVD(n_components=150, n_iter=20, random_state=2))],\n",
       " 'Préparation des données__Word_processing__verbose': True,\n",
       " 'Préparation des données__Word_processing__Tf-Idf': TfidfVectorizer(max_df=0.9, min_df=0.0025, ngram_range=(1, 3),\n",
       "                 stop_words='english', sublinear_tf=True),\n",
       " 'Préparation des données__Word_processing__truncatedSVD_word': TruncatedSVD(n_components=150, n_iter=20, random_state=2),\n",
       " 'Préparation des données__Word_processing__Tf-Idf__analyzer': 'word',\n",
       " 'Préparation des données__Word_processing__Tf-Idf__binary': False,\n",
       " 'Préparation des données__Word_processing__Tf-Idf__decode_error': 'strict',\n",
       " 'Préparation des données__Word_processing__Tf-Idf__dtype': numpy.float64,\n",
       " 'Préparation des données__Word_processing__Tf-Idf__encoding': 'utf-8',\n",
       " 'Préparation des données__Word_processing__Tf-Idf__input': 'content',\n",
       " 'Préparation des données__Word_processing__Tf-Idf__lowercase': True,\n",
       " 'Préparation des données__Word_processing__Tf-Idf__max_df': 0.9,\n",
       " 'Préparation des données__Word_processing__Tf-Idf__max_features': None,\n",
       " 'Préparation des données__Word_processing__Tf-Idf__min_df': 0.0025,\n",
       " 'Préparation des données__Word_processing__Tf-Idf__ngram_range': (1, 3),\n",
       " 'Préparation des données__Word_processing__Tf-Idf__norm': 'l2',\n",
       " 'Préparation des données__Word_processing__Tf-Idf__preprocessor': None,\n",
       " 'Préparation des données__Word_processing__Tf-Idf__smooth_idf': True,\n",
       " 'Préparation des données__Word_processing__Tf-Idf__stop_words': 'english',\n",
       " 'Préparation des données__Word_processing__Tf-Idf__strip_accents': None,\n",
       " 'Préparation des données__Word_processing__Tf-Idf__sublinear_tf': True,\n",
       " 'Préparation des données__Word_processing__Tf-Idf__token_pattern': '(?u)\\\\b\\\\w\\\\w+\\\\b',\n",
       " 'Préparation des données__Word_processing__Tf-Idf__tokenizer': None,\n",
       " 'Préparation des données__Word_processing__Tf-Idf__use_idf': True,\n",
       " 'Préparation des données__Word_processing__Tf-Idf__vocabulary': None,\n",
       " 'Préparation des données__Word_processing__truncatedSVD_word__algorithm': 'randomized',\n",
       " 'Préparation des données__Word_processing__truncatedSVD_word__n_components': 150,\n",
       " 'Préparation des données__Word_processing__truncatedSVD_word__n_iter': 20,\n",
       " 'Préparation des données__Word_processing__truncatedSVD_word__random_state': 2,\n",
       " 'Préparation des données__Word_processing__truncatedSVD_word__tol': 0.0,\n",
       " 'Préparation des données__Title_processing__memory': None,\n",
       " 'Préparation des données__Title_processing__steps': [('Tf-Idf',\n",
       "   TfidfVectorizer(max_df=0.95, min_df=0.001, ngram_range=(1, 3),\n",
       "                   stop_words='english', sublinear_tf=True)),\n",
       "  ('truncatedSVD', TruncatedSVD(n_components=60, n_iter=25, random_state=2))],\n",
       " 'Préparation des données__Title_processing__verbose': True,\n",
       " 'Préparation des données__Title_processing__Tf-Idf': TfidfVectorizer(max_df=0.95, min_df=0.001, ngram_range=(1, 3),\n",
       "                 stop_words='english', sublinear_tf=True),\n",
       " 'Préparation des données__Title_processing__truncatedSVD': TruncatedSVD(n_components=60, n_iter=25, random_state=2),\n",
       " 'Préparation des données__Title_processing__Tf-Idf__analyzer': 'word',\n",
       " 'Préparation des données__Title_processing__Tf-Idf__binary': False,\n",
       " 'Préparation des données__Title_processing__Tf-Idf__decode_error': 'strict',\n",
       " 'Préparation des données__Title_processing__Tf-Idf__dtype': numpy.float64,\n",
       " 'Préparation des données__Title_processing__Tf-Idf__encoding': 'utf-8',\n",
       " 'Préparation des données__Title_processing__Tf-Idf__input': 'content',\n",
       " 'Préparation des données__Title_processing__Tf-Idf__lowercase': True,\n",
       " 'Préparation des données__Title_processing__Tf-Idf__max_df': 0.95,\n",
       " 'Préparation des données__Title_processing__Tf-Idf__max_features': None,\n",
       " 'Préparation des données__Title_processing__Tf-Idf__min_df': 0.001,\n",
       " 'Préparation des données__Title_processing__Tf-Idf__ngram_range': (1, 3),\n",
       " 'Préparation des données__Title_processing__Tf-Idf__norm': 'l2',\n",
       " 'Préparation des données__Title_processing__Tf-Idf__preprocessor': None,\n",
       " 'Préparation des données__Title_processing__Tf-Idf__smooth_idf': True,\n",
       " 'Préparation des données__Title_processing__Tf-Idf__stop_words': 'english',\n",
       " 'Préparation des données__Title_processing__Tf-Idf__strip_accents': None,\n",
       " 'Préparation des données__Title_processing__Tf-Idf__sublinear_tf': True,\n",
       " 'Préparation des données__Title_processing__Tf-Idf__token_pattern': '(?u)\\\\b\\\\w\\\\w+\\\\b',\n",
       " 'Préparation des données__Title_processing__Tf-Idf__tokenizer': None,\n",
       " 'Préparation des données__Title_processing__Tf-Idf__use_idf': True,\n",
       " 'Préparation des données__Title_processing__Tf-Idf__vocabulary': None,\n",
       " 'Préparation des données__Title_processing__truncatedSVD__algorithm': 'randomized',\n",
       " 'Préparation des données__Title_processing__truncatedSVD__n_components': 60,\n",
       " 'Préparation des données__Title_processing__truncatedSVD__n_iter': 25,\n",
       " 'Préparation des données__Title_processing__truncatedSVD__random_state': 2,\n",
       " 'Préparation des données__Title_processing__truncatedSVD__tol': 0.0,\n",
       " 'Logis__C': 1.0,\n",
       " 'Logis__class_weight': None,\n",
       " 'Logis__dual': False,\n",
       " 'Logis__fit_intercept': True,\n",
       " 'Logis__intercept_scaling': 1,\n",
       " 'Logis__l1_ratio': None,\n",
       " 'Logis__max_iter': 500,\n",
       " 'Logis__multi_class': 'auto',\n",
       " 'Logis__n_jobs': -3,\n",
       " 'Logis__penalty': 'l2',\n",
       " 'Logis__random_state': 2,\n",
       " 'Logis__solver': 'saga',\n",
       " 'Logis__tol': 0.0001,\n",
       " 'Logis__verbose': 10,\n",
       " 'Logis__warm_start': False}"
      ]
     },
     "execution_count": 53,
     "metadata": {},
     "output_type": "execute_result"
    }
   ],
   "source": [
    "pipelog.get_params()"
   ]
  },
  {
   "cell_type": "code",
   "execution_count": 54,
   "metadata": {},
   "outputs": [],
   "source": [
    "grid_log=GridSearchCV(pipelog,{ 'Logis__penalty': ['l2','elasticnet'],'Logis__C':np.arange(0.1,1,0.1)\n",
    "},cv=10,n_jobs=-3,verbose=3)"
   ]
  },
  {
   "cell_type": "code",
   "execution_count": 55,
   "metadata": {},
   "outputs": [],
   "source": [
    "#x=tfidf.fit_transform(X_train['Body_text'])"
   ]
  },
  {
   "cell_type": "code",
   "execution_count": 56,
   "metadata": {},
   "outputs": [
    {
     "data": {
      "text/html": [
       "<div>\n",
       "<style scoped>\n",
       "    .dataframe tbody tr th:only-of-type {\n",
       "        vertical-align: middle;\n",
       "    }\n",
       "\n",
       "    .dataframe tbody tr th {\n",
       "        vertical-align: top;\n",
       "    }\n",
       "\n",
       "    .dataframe thead th {\n",
       "        text-align: right;\n",
       "    }\n",
       "</style>\n",
       "<table border=\"1\" class=\"dataframe\">\n",
       "  <thead>\n",
       "    <tr style=\"text-align: right;\">\n",
       "      <th></th>\n",
       "      <th>AnswerCount</th>\n",
       "      <th>CommentCount</th>\n",
       "      <th>FavoriteCount</th>\n",
       "      <th>Score</th>\n",
       "      <th>ViewCount</th>\n",
       "      <th>year</th>\n",
       "      <th>Title</th>\n",
       "      <th>Body_text</th>\n",
       "    </tr>\n",
       "  </thead>\n",
       "  <tbody>\n",
       "    <tr>\n",
       "      <th>61753</th>\n",
       "      <td>7</td>\n",
       "      <td>5</td>\n",
       "      <td>4</td>\n",
       "      <td>17</td>\n",
       "      <td>60708</td>\n",
       "      <td>2015</td>\n",
       "      <td>Laravel 5 - Php artisan syntax error</td>\n",
       "      <td>I am currently developing an app with Laravel ...</td>\n",
       "    </tr>\n",
       "    <tr>\n",
       "      <th>89669</th>\n",
       "      <td>7</td>\n",
       "      <td>0</td>\n",
       "      <td>4</td>\n",
       "      <td>19</td>\n",
       "      <td>28582</td>\n",
       "      <td>2015</td>\n",
       "      <td>Pandas type error trying to plot</td>\n",
       "      <td>I'm trying to create a basic scatter plot base...</td>\n",
       "    </tr>\n",
       "    <tr>\n",
       "      <th>103057</th>\n",
       "      <td>5</td>\n",
       "      <td>0</td>\n",
       "      <td>3</td>\n",
       "      <td>16</td>\n",
       "      <td>60527</td>\n",
       "      <td>2015</td>\n",
       "      <td>Slick Slider Next Arrows not showing</td>\n",
       "      <td>I'm trying to get the next and previous arrows...</td>\n",
       "    </tr>\n",
       "    <tr>\n",
       "      <th>60201</th>\n",
       "      <td>6</td>\n",
       "      <td>1</td>\n",
       "      <td>6</td>\n",
       "      <td>45</td>\n",
       "      <td>67905</td>\n",
       "      <td>2014</td>\n",
       "      <td>How to get a complete row or column from 2D ar...</td>\n",
       "      <td>I do not want to use a jagged array and I have...</td>\n",
       "    </tr>\n",
       "    <tr>\n",
       "      <th>57840</th>\n",
       "      <td>5</td>\n",
       "      <td>1</td>\n",
       "      <td>23</td>\n",
       "      <td>41</td>\n",
       "      <td>16275</td>\n",
       "      <td>2014</td>\n",
       "      <td>How to plug my Autofac container into ASP. NET...</td>\n",
       "      <td>I have been looking into the new features of t...</td>\n",
       "    </tr>\n",
       "    <tr>\n",
       "      <th>...</th>\n",
       "      <td>...</td>\n",
       "      <td>...</td>\n",
       "      <td>...</td>\n",
       "      <td>...</td>\n",
       "      <td>...</td>\n",
       "      <td>...</td>\n",
       "      <td>...</td>\n",
       "      <td>...</td>\n",
       "    </tr>\n",
       "    <tr>\n",
       "      <th>52677</th>\n",
       "      <td>8</td>\n",
       "      <td>1</td>\n",
       "      <td>53</td>\n",
       "      <td>195</td>\n",
       "      <td>201902</td>\n",
       "      <td>2016</td>\n",
       "      <td>How to get rid of \"Unnamed: 0\" column in a pan...</td>\n",
       "      <td>I have a situation wherein sometimes when I re...</td>\n",
       "    </tr>\n",
       "    <tr>\n",
       "      <th>55101</th>\n",
       "      <td>18</td>\n",
       "      <td>11</td>\n",
       "      <td>7</td>\n",
       "      <td>19</td>\n",
       "      <td>12136</td>\n",
       "      <td>2017</td>\n",
       "      <td>How to create a method to return 1 or 0 withou...</td>\n",
       "      <td>I was asked a question in an interview to retu...</td>\n",
       "    </tr>\n",
       "    <tr>\n",
       "      <th>72405</th>\n",
       "      <td>7</td>\n",
       "      <td>3</td>\n",
       "      <td>9</td>\n",
       "      <td>29</td>\n",
       "      <td>28634</td>\n",
       "      <td>2012</td>\n",
       "      <td>C++ string::find complexity</td>\n",
       "      <td>Why the c++'s implemented string::find() doesn...</td>\n",
       "    </tr>\n",
       "    <tr>\n",
       "      <th>42365</th>\n",
       "      <td>6</td>\n",
       "      <td>2</td>\n",
       "      <td>22</td>\n",
       "      <td>45</td>\n",
       "      <td>68740</td>\n",
       "      <td>2015</td>\n",
       "      <td>Override PHP base dependency in composer</td>\n",
       "      <td>I try  to install Laravel 5.1 on a host which ...</td>\n",
       "    </tr>\n",
       "    <tr>\n",
       "      <th>73267</th>\n",
       "      <td>8</td>\n",
       "      <td>0</td>\n",
       "      <td>16</td>\n",
       "      <td>32</td>\n",
       "      <td>50839</td>\n",
       "      <td>2012</td>\n",
       "      <td>EF5 Getting this error message: Model compatib...</td>\n",
       "      <td>I have this error message that keeps on displa...</td>\n",
       "    </tr>\n",
       "  </tbody>\n",
       "</table>\n",
       "<p>78624 rows × 8 columns</p>\n",
       "</div>"
      ],
      "text/plain": [
       "        AnswerCount  CommentCount  FavoriteCount  Score  ViewCount  year  \\\n",
       "61753             7             5              4     17      60708  2015   \n",
       "89669             7             0              4     19      28582  2015   \n",
       "103057            5             0              3     16      60527  2015   \n",
       "60201             6             1              6     45      67905  2014   \n",
       "57840             5             1             23     41      16275  2014   \n",
       "...             ...           ...            ...    ...        ...   ...   \n",
       "52677             8             1             53    195     201902  2016   \n",
       "55101            18            11              7     19      12136  2017   \n",
       "72405             7             3              9     29      28634  2012   \n",
       "42365             6             2             22     45      68740  2015   \n",
       "73267             8             0             16     32      50839  2012   \n",
       "\n",
       "                                                    Title  \\\n",
       "61753                Laravel 5 - Php artisan syntax error   \n",
       "89669                    Pandas type error trying to plot   \n",
       "103057               Slick Slider Next Arrows not showing   \n",
       "60201   How to get a complete row or column from 2D ar...   \n",
       "57840   How to plug my Autofac container into ASP. NET...   \n",
       "...                                                   ...   \n",
       "52677   How to get rid of \"Unnamed: 0\" column in a pan...   \n",
       "55101   How to create a method to return 1 or 0 withou...   \n",
       "72405                         C++ string::find complexity   \n",
       "42365            Override PHP base dependency in composer   \n",
       "73267   EF5 Getting this error message: Model compatib...   \n",
       "\n",
       "                                                Body_text  \n",
       "61753   I am currently developing an app with Laravel ...  \n",
       "89669   I'm trying to create a basic scatter plot base...  \n",
       "103057  I'm trying to get the next and previous arrows...  \n",
       "60201   I do not want to use a jagged array and I have...  \n",
       "57840   I have been looking into the new features of t...  \n",
       "...                                                   ...  \n",
       "52677   I have a situation wherein sometimes when I re...  \n",
       "55101   I was asked a question in an interview to retu...  \n",
       "72405   Why the c++'s implemented string::find() doesn...  \n",
       "42365   I try  to install Laravel 5.1 on a host which ...  \n",
       "73267   I have this error message that keeps on displa...  \n",
       "\n",
       "[78624 rows x 8 columns]"
      ]
     },
     "execution_count": 56,
     "metadata": {},
     "output_type": "execute_result"
    }
   ],
   "source": [
    "X_train"
   ]
  },
  {
   "cell_type": "code",
   "execution_count": null,
   "metadata": {
    "scrolled": false
   },
   "outputs": [
    {
     "name": "stdout",
     "output_type": "stream",
     "text": [
      "Fitting 10 folds for each of 18 candidates, totalling 180 fits\n"
     ]
    },
    {
     "name": "stderr",
     "output_type": "stream",
     "text": [
      "[Parallel(n_jobs=-3)]: Using backend LokyBackend with 6 concurrent workers.\n",
      "[Parallel(n_jobs=-3)]: Done  20 tasks      | elapsed: 157.9min\n"
     ]
    }
   ],
   "source": [
    "grid_log.fit(X_train,y_train)"
   ]
  },
  {
   "cell_type": "code",
   "execution_count": null,
   "metadata": {},
   "outputs": [],
   "source": []
  },
  {
   "cell_type": "code",
   "execution_count": null,
   "metadata": {},
   "outputs": [],
   "source": [
    "#logreg.fit(X_train[non_word_column].iloc[:1000],y_train[:1000])"
   ]
  },
  {
   "cell_type": "code",
   "execution_count": null,
   "metadata": {},
   "outputs": [],
   "source": [
    "grid_log.score(X_test,y_test)"
   ]
  },
  {
   "cell_type": "code",
   "execution_count": null,
   "metadata": {},
   "outputs": [],
   "source": []
  },
  {
   "cell_type": "code",
   "execution_count": null,
   "metadata": {},
   "outputs": [],
   "source": [
    "grid_log.best_params_"
   ]
  },
  {
   "cell_type": "markdown",
   "metadata": {},
   "source": [
    "####  XGBoost"
   ]
  },
  {
   "cell_type": "code",
   "execution_count": null,
   "metadata": {},
   "outputs": [],
   "source": [
    "xgb=XGBClassifier(n_estimators=800,n_jobs=-3,verbose=30,random_state=2)\n",
    "pipexgb=pipe(xgb)"
   ]
  },
  {
   "cell_type": "code",
   "execution_count": null,
   "metadata": {},
   "outputs": [],
   "source": []
  },
  {
   "cell_type": "code",
   "execution_count": null,
   "metadata": {
    "scrolled": true
   },
   "outputs": [],
   "source": [
    "pipexgb.get_params()"
   ]
  },
  {
   "cell_type": "code",
   "execution_count": null,
   "metadata": {},
   "outputs": [],
   "source": [
    "grid_xgb=GridSearchCV(pipexgb,{ 'XGBCl__max_depth': np.arange(3,20,3),\n",
    "                               'XGBCl__gamma': np.arange(0.1,1.5,0.1),'XGBCl__learning_rate': np.arange(0.1,5,0.7),\n",
    "},cv=4,n_jobs=-3,verbose=3)\n",
    "\n",
    "#x=tfidf.fit_transform(X_train['Body_text'])"
   ]
  },
  {
   "cell_type": "code",
   "execution_count": null,
   "metadata": {},
   "outputs": [],
   "source": [
    "grid_xgb.fit(X_train,y_train)"
   ]
  },
  {
   "cell_type": "code",
   "execution_count": null,
   "metadata": {},
   "outputs": [],
   "source": [
    "#grid_xgb.predict_proba(X_test)"
   ]
  },
  {
   "cell_type": "code",
   "execution_count": null,
   "metadata": {},
   "outputs": [],
   "source": [
    "#xgb.fit(X_train[non_word_column].iloc[:1000],y_train[:1000])"
   ]
  },
  {
   "cell_type": "code",
   "execution_count": null,
   "metadata": {},
   "outputs": [],
   "source": [
    "#xgb.predict_proba(X_test[non_word_column]).shape"
   ]
  },
  {
   "cell_type": "code",
   "execution_count": null,
   "metadata": {},
   "outputs": [],
   "source": [
    "grid_xgb.score(X_test,y_test)"
   ]
  },
  {
   "cell_type": "code",
   "execution_count": null,
   "metadata": {},
   "outputs": [],
   "source": [
    "grid_xgb.best_params_"
   ]
  },
  {
   "cell_type": "code",
   "execution_count": null,
   "metadata": {},
   "outputs": [],
   "source": [
    "x,z =proba_label(grid_bnb,X_test,7)"
   ]
  },
  {
   "cell_type": "code",
   "execution_count": null,
   "metadata": {},
   "outputs": [],
   "source": [
    "z[7005]"
   ]
  },
  {
   "cell_type": "code",
   "execution_count": null,
   "metadata": {},
   "outputs": [],
   "source": [
    "X_test.iloc[705].Title"
   ]
  },
  {
   "cell_type": "code",
   "execution_count": null,
   "metadata": {},
   "outputs": [],
   "source": [
    "lab_enc.inverse_transform(pipebnb.predict(X_test.iloc[[380,136]]))"
   ]
  },
  {
   "cell_type": "code",
   "execution_count": null,
   "metadata": {},
   "outputs": [],
   "source": []
  },
  {
   "cell_type": "markdown",
   "metadata": {},
   "source": [
    "## Modèle retenu"
   ]
  },
  {
   "cell_type": "code",
   "execution_count": null,
   "metadata": {},
   "outputs": [],
   "source": [
    "X_train['Title']"
   ]
  },
  {
   "cell_type": "code",
   "execution_count": null,
   "metadata": {},
   "outputs": [],
   "source": [
    "word_proc.fit(X_train[words_columns])"
   ]
  },
  {
   "cell_type": "code",
   "execution_count": null,
   "metadata": {},
   "outputs": [],
   "source": [
    "col_proc"
   ]
  },
  {
   "cell_type": "code",
   "execution_count": null,
   "metadata": {},
   "outputs": [],
   "source": [
    "(tsvd.fit_transform,tsvd.fit_transform)(x,x)"
   ]
  },
  {
   "cell_type": "code",
   "execution_count": null,
   "metadata": {},
   "outputs": [],
   "source": [
    "word_proc.fit(X_train[['Body_text']])"
   ]
  },
  {
   "cell_type": "code",
   "execution_count": null,
   "metadata": {},
   "outputs": [],
   "source": []
  }
 ],
 "metadata": {
  "kernelspec": {
   "display_name": "Python 3",
   "language": "python",
   "name": "python3"
  },
  "language_info": {
   "codemirror_mode": {
    "name": "ipython",
    "version": 3
   },
   "file_extension": ".py",
   "mimetype": "text/x-python",
   "name": "python",
   "nbconvert_exporter": "python",
   "pygments_lexer": "ipython3",
   "version": "3.7.7"
  },
  "toc": {
   "base_numbering": 1,
   "nav_menu": {},
   "number_sections": false,
   "sideBar": true,
   "skip_h1_title": true,
   "title_cell": "Table of Contents",
   "title_sidebar": "Contents",
   "toc_cell": false,
   "toc_position": {
    "height": "476.4px",
    "left": "10px",
    "top": "150px",
    "width": "287px"
   },
   "toc_section_display": true,
   "toc_window_display": true
  }
 },
 "nbformat": 4,
 "nbformat_minor": 4
}
